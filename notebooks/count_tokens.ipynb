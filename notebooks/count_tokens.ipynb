{
 "cells": [
  {
   "cell_type": "code",
   "execution_count": 14,
   "metadata": {},
   "outputs": [],
   "source": [
    "import os\n",
    "import re\n",
    "from tqdm import tqdm\n",
    "import random"
   ]
  },
  {
   "cell_type": "code",
   "execution_count": 11,
   "metadata": {},
   "outputs": [
    {
     "name": "stdout",
     "output_type": "stream",
     "text": [
      "Processed 1000 txt files.\n",
      "Total characters: 6525775\n",
      "Total tokens: 975460\n"
     ]
    }
   ],
   "source": [
    "\n",
    "\n",
    "def count_characters_tokens(file_path):\n",
    "    with open(file_path, 'r', encoding='utf-8') as f:\n",
    "        content = f.read()\n",
    "        characters = len(content)\n",
    "        tokens = len(re.findall(r'\\b\\w+\\b', content))\n",
    "        return characters, tokens\n",
    "\n",
    "folder_path = '../data/processed/'\n",
    "txt_files = [f for f in os.listdir(folder_path) if f.endswith('.txt')]\n",
    "\n",
    "total_characters = 0\n",
    "total_tokens = 0\n",
    "file_count = 0\n",
    "\n",
    "for file_name in txt_files[200000:201000]:\n",
    "    file_path = os.path.join(folder_path, file_name)\n",
    "    try:\n",
    "        characters, tokens = count_characters_tokens(file_path)\n",
    "        total_characters += characters\n",
    "        total_tokens += tokens\n",
    "        file_count += 1\n",
    "    except Exception as e:\n",
    "        print(f'Error processing file {file_path}: {e}')\n",
    "\n",
    "print(f'Processed {file_count} txt files.')\n",
    "print(f'Total characters: {total_characters}')\n",
    "print(f'Total tokens: {total_tokens}')\n"
   ]
  },
  {
   "cell_type": "code",
   "execution_count": 12,
   "metadata": {},
   "outputs": [
    {
     "data": {
      "text/plain": [
       "11420.10625"
      ]
     },
     "execution_count": 12,
     "metadata": {},
     "output_type": "execute_result"
    }
   ],
   "source": [
    "(total_characters/4000)*0.002*7*500"
   ]
  },
  {
   "attachments": {},
   "cell_type": "markdown",
   "metadata": {},
   "source": [
    "## Counting tokens of filtered doks"
   ]
  },
  {
   "cell_type": "code",
   "execution_count": 13,
   "metadata": {},
   "outputs": [
    {
     "data": {
      "text/html": [
       "<div>\n",
       "<style scoped>\n",
       "    .dataframe tbody tr th:only-of-type {\n",
       "        vertical-align: middle;\n",
       "    }\n",
       "\n",
       "    .dataframe tbody tr th {\n",
       "        vertical-align: top;\n",
       "    }\n",
       "\n",
       "    .dataframe thead th {\n",
       "        text-align: right;\n",
       "    }\n",
       "</style>\n",
       "<table border=\"1\" class=\"dataframe\">\n",
       "  <thead>\n",
       "    <tr style=\"text-align: right;\">\n",
       "      <th></th>\n",
       "      <th>id</th>\n",
       "      <th>dokumentid</th>\n",
       "      <th>titel</th>\n",
       "      <th>versionsdato</th>\n",
       "      <th>filurl</th>\n",
       "      <th>opdateringsdato</th>\n",
       "      <th>variantkode</th>\n",
       "      <th>format</th>\n",
       "    </tr>\n",
       "  </thead>\n",
       "  <tbody>\n",
       "    <tr>\n",
       "      <th>0</th>\n",
       "      <td>158</td>\n",
       "      <td>11432</td>\n",
       "      <td>Evaluering af lov om friplejeboliger_endelig v...</td>\n",
       "      <td>2014-09-04 15:44:54</td>\n",
       "      <td>https://www.ft.dk/samling/20131/almdel/BYB/bil...</td>\n",
       "      <td>2020-02-25 10:46:59.490</td>\n",
       "      <td>P</td>\n",
       "      <td>PDF</td>\n",
       "    </tr>\n",
       "    <tr>\n",
       "      <th>1</th>\n",
       "      <td>159</td>\n",
       "      <td>11432</td>\n",
       "      <td>Redegørelse for evaluering af friplejeboliglov...</td>\n",
       "      <td>2014-09-04 15:44:55</td>\n",
       "      <td>https://www.ft.dk/samling/20131/almdel/BYB/bil...</td>\n",
       "      <td>2020-02-25 10:46:59.490</td>\n",
       "      <td>P</td>\n",
       "      <td>DOCX</td>\n",
       "    </tr>\n",
       "    <tr>\n",
       "      <th>2</th>\n",
       "      <td>160</td>\n",
       "      <td>11432</td>\n",
       "      <td>Redegørelse for evaluering af friplejeboliglov...</td>\n",
       "      <td>2014-09-04 15:44:57</td>\n",
       "      <td>https://www.ft.dk/samling/20131/almdel/BYB/bil...</td>\n",
       "      <td>2020-02-25 10:46:59.490</td>\n",
       "      <td>P</td>\n",
       "      <td>PDF</td>\n",
       "    </tr>\n",
       "    <tr>\n",
       "      <th>3</th>\n",
       "      <td>162</td>\n",
       "      <td>11430</td>\n",
       "      <td>EU-note om indførsel af tysk infrastrukturafgi...</td>\n",
       "      <td>2014-09-04 15:49:38</td>\n",
       "      <td>https://www.ft.dk/samling/20131/almdel/TRU/bil...</td>\n",
       "      <td>2020-02-25 10:46:59.487</td>\n",
       "      <td>P</td>\n",
       "      <td>DOCX</td>\n",
       "    </tr>\n",
       "    <tr>\n",
       "      <th>4</th>\n",
       "      <td>164</td>\n",
       "      <td>11433</td>\n",
       "      <td>Yderligere Suppl Bemærkninger til L200 - Skatt...</td>\n",
       "      <td>2014-09-04 15:56:54</td>\n",
       "      <td>https://www.ft.dk/samling/20131/lovforslag/L20...</td>\n",
       "      <td>2020-02-25 10:46:59.487</td>\n",
       "      <td>P</td>\n",
       "      <td>DOCX</td>\n",
       "    </tr>\n",
       "    <tr>\n",
       "      <th>...</th>\n",
       "      <td>...</td>\n",
       "      <td>...</td>\n",
       "      <td>...</td>\n",
       "      <td>...</td>\n",
       "      <td>...</td>\n",
       "      <td>...</td>\n",
       "      <td>...</td>\n",
       "      <td>...</td>\n",
       "    </tr>\n",
       "    <tr>\n",
       "      <th>491200</th>\n",
       "      <td>1832164</td>\n",
       "      <td>1024420</td>\n",
       "      <td>SUU alm. del - svar på spm. 95 (D2564090).docx</td>\n",
       "      <td>2023-02-27 17:53:46</td>\n",
       "      <td>https://www.ft.dk/samling/20222/almdel/suu/spm...</td>\n",
       "      <td>2023-02-27 18:58:17.770</td>\n",
       "      <td>P</td>\n",
       "      <td>DOCX</td>\n",
       "    </tr>\n",
       "    <tr>\n",
       "      <th>491201</th>\n",
       "      <td>1832169</td>\n",
       "      <td>1023036</td>\n",
       "      <td>1_DA_ACT_part1_v2.pdf</td>\n",
       "      <td>2023-02-27 17:53:26</td>\n",
       "      <td>https://www.ft.dk/samling/20231/kommissionsfor...</td>\n",
       "      <td>2023-02-27 17:53:57.900</td>\n",
       "      <td>P</td>\n",
       "      <td>PDF</td>\n",
       "    </tr>\n",
       "    <tr>\n",
       "      <th>491202</th>\n",
       "      <td>1832170</td>\n",
       "      <td>1024421</td>\n",
       "      <td>SUU alm. del - svar på spm. 96 (D2564168).docx</td>\n",
       "      <td>2023-02-27 17:53:48</td>\n",
       "      <td>https://www.ft.dk/samling/20222/almdel/suu/spm...</td>\n",
       "      <td>2023-02-27 18:59:25.417</td>\n",
       "      <td>P</td>\n",
       "      <td>DOCX</td>\n",
       "    </tr>\n",
       "    <tr>\n",
       "      <th>491206</th>\n",
       "      <td>1832182</td>\n",
       "      <td>1024425</td>\n",
       "      <td>Rigsrevisionens beretning afgivet til Folketin...</td>\n",
       "      <td>2023-02-27 19:44:17</td>\n",
       "      <td>https://www.ft.dk/samling/20222/almdel/eru/bil...</td>\n",
       "      <td>2023-02-27 19:45:51.650</td>\n",
       "      <td>P</td>\n",
       "      <td>PDF</td>\n",
       "    </tr>\n",
       "    <tr>\n",
       "      <th>491207</th>\n",
       "      <td>1832184</td>\n",
       "      <td>1024425</td>\n",
       "      <td>Lodsning - fælles one-pager DH og DHSV</td>\n",
       "      <td>2023-02-27 19:43:36</td>\n",
       "      <td>https://www.ft.dk/samling/20222/almdel/eru/bil...</td>\n",
       "      <td>2023-02-27 19:45:51.720</td>\n",
       "      <td>P</td>\n",
       "      <td>PDF</td>\n",
       "    </tr>\n",
       "  </tbody>\n",
       "</table>\n",
       "<p>326384 rows × 8 columns</p>\n",
       "</div>"
      ],
      "text/plain": [
       "             id  dokumentid  \\\n",
       "0           158       11432   \n",
       "1           159       11432   \n",
       "2           160       11432   \n",
       "3           162       11430   \n",
       "4           164       11433   \n",
       "...         ...         ...   \n",
       "491200  1832164     1024420   \n",
       "491201  1832169     1023036   \n",
       "491202  1832170     1024421   \n",
       "491206  1832182     1024425   \n",
       "491207  1832184     1024425   \n",
       "\n",
       "                                                    titel        versionsdato  \\\n",
       "0       Evaluering af lov om friplejeboliger_endelig v... 2014-09-04 15:44:54   \n",
       "1       Redegørelse for evaluering af friplejeboliglov... 2014-09-04 15:44:55   \n",
       "2       Redegørelse for evaluering af friplejeboliglov... 2014-09-04 15:44:57   \n",
       "3       EU-note om indførsel af tysk infrastrukturafgi... 2014-09-04 15:49:38   \n",
       "4       Yderligere Suppl Bemærkninger til L200 - Skatt... 2014-09-04 15:56:54   \n",
       "...                                                   ...                 ...   \n",
       "491200     SUU alm. del - svar på spm. 95 (D2564090).docx 2023-02-27 17:53:46   \n",
       "491201                              1_DA_ACT_part1_v2.pdf 2023-02-27 17:53:26   \n",
       "491202     SUU alm. del - svar på spm. 96 (D2564168).docx 2023-02-27 17:53:48   \n",
       "491206  Rigsrevisionens beretning afgivet til Folketin... 2023-02-27 19:44:17   \n",
       "491207             Lodsning - fælles one-pager DH og DHSV 2023-02-27 19:43:36   \n",
       "\n",
       "                                                   filurl  \\\n",
       "0       https://www.ft.dk/samling/20131/almdel/BYB/bil...   \n",
       "1       https://www.ft.dk/samling/20131/almdel/BYB/bil...   \n",
       "2       https://www.ft.dk/samling/20131/almdel/BYB/bil...   \n",
       "3       https://www.ft.dk/samling/20131/almdel/TRU/bil...   \n",
       "4       https://www.ft.dk/samling/20131/lovforslag/L20...   \n",
       "...                                                   ...   \n",
       "491200  https://www.ft.dk/samling/20222/almdel/suu/spm...   \n",
       "491201  https://www.ft.dk/samling/20231/kommissionsfor...   \n",
       "491202  https://www.ft.dk/samling/20222/almdel/suu/spm...   \n",
       "491206  https://www.ft.dk/samling/20222/almdel/eru/bil...   \n",
       "491207  https://www.ft.dk/samling/20222/almdel/eru/bil...   \n",
       "\n",
       "               opdateringsdato variantkode format  \n",
       "0      2020-02-25 10:46:59.490           P    PDF  \n",
       "1      2020-02-25 10:46:59.490           P   DOCX  \n",
       "2      2020-02-25 10:46:59.490           P    PDF  \n",
       "3      2020-02-25 10:46:59.487           P   DOCX  \n",
       "4      2020-02-25 10:46:59.487           P   DOCX  \n",
       "...                        ...         ...    ...  \n",
       "491200 2023-02-27 18:58:17.770           P   DOCX  \n",
       "491201 2023-02-27 17:53:57.900           P    PDF  \n",
       "491202 2023-02-27 18:59:25.417           P   DOCX  \n",
       "491206 2023-02-27 19:45:51.650           P    PDF  \n",
       "491207 2023-02-27 19:45:51.720           P    PDF  \n",
       "\n",
       "[326384 rows x 8 columns]"
      ]
     },
     "execution_count": 13,
     "metadata": {},
     "output_type": "execute_result"
    }
   ],
   "source": [
    "import pickle\n",
    "with open('../data/raw/Filtered_fil.pkl', 'rb') as f:\n",
    "    Filtered_fil = pickle.load(f)\n",
    "Filtered_fil"
   ]
  },
  {
   "cell_type": "code",
   "execution_count": 15,
   "metadata": {},
   "outputs": [
    {
     "name": "stdout",
     "output_type": "stream",
     "text": [
      "Total tokens: 120740920\n",
      "Total characters: 18133570\n"
     ]
    }
   ],
   "source": [
    "txt_files_ids = Filtered_fil['id'].tolist()\n",
    "\n",
    "\n",
    "# Sample exactly 10,000 txt files from the txt_files_ids list\n",
    "sample_size = 10000\n",
    "if len(txt_files_ids) > sample_size:\n",
    "    sampled_txt_files_ids = random.sample(txt_files_ids, sample_size)\n",
    "else:\n",
    "    sampled_txt_files_ids = txt_files_ids\n",
    "\n",
    "total_tokens = 0\n",
    "total_characters = 0\n",
    "\n",
    "for basename in sampled_txt_files_ids:\n",
    "    file_name = f'{basename}.txt'\n",
    "    file_path = os.path.join(folder_path, file_name)\n",
    "    \n",
    "    if os.path.isfile(file_path):\n",
    "        tokens, characters = count_characters_tokens(file_path)\n",
    "        total_tokens += tokens\n",
    "        total_characters += characters\n",
    "\n",
    "print(\"Total tokens:\", total_tokens)\n",
    "print(\"Total characters:\", total_characters)"
   ]
  },
  {
   "cell_type": "code",
   "execution_count": 35,
   "metadata": {},
   "outputs": [
    {
     "data": {
      "text/plain": [
       "580274240"
      ]
     },
     "execution_count": 35,
     "metadata": {},
     "output_type": "execute_result"
    }
   ],
   "source": [
    "total_characters*32"
   ]
  },
  {
   "cell_type": "code",
   "execution_count": 28,
   "metadata": {},
   "outputs": [
    {
     "data": {
      "text/plain": [
       "6.6584197154779785"
      ]
     },
     "execution_count": 28,
     "metadata": {},
     "output_type": "execute_result"
    }
   ],
   "source": [
    "total_tokens/total_characters"
   ]
  },
  {
   "cell_type": "code",
   "execution_count": 24,
   "metadata": {},
   "outputs": [
    {
     "data": {
      "text/plain": [
       "32.6384"
      ]
     },
     "execution_count": 24,
     "metadata": {},
     "output_type": "execute_result"
    }
   ],
   "source": [
    "len(Filtered_fil)/10000"
   ]
  },
  {
   "cell_type": "code",
   "execution_count": 34,
   "metadata": {},
   "outputs": [
    {
     "data": {
      "text/plain": [
       "7727.41888"
      ]
     },
     "execution_count": 34,
     "metadata": {},
     "output_type": "execute_result"
    }
   ],
   "source": [
    "#4 characters per token, 0.002 dollars per 1000 tokens, 7kr per dollar, 32 times the number of tokens in the sample\n",
    "(total_tokens/1000)*0.002*32"
   ]
  },
  {
   "cell_type": "code",
   "execution_count": 29,
   "metadata": {},
   "outputs": [
    {
     "data": {
      "text/plain": [
       "2030.95984"
      ]
     },
     "execution_count": 29,
     "metadata": {},
     "output_type": "execute_result"
    }
   ],
   "source": [
    "(total_characters/4000)*0.002*7*(32)"
   ]
  },
  {
   "cell_type": "code",
   "execution_count": 31,
   "metadata": {},
   "outputs": [
    {
     "data": {
      "text/plain": [
       "50711.186400000006"
      ]
     },
     "execution_count": 31,
     "metadata": {},
     "output_type": "execute_result"
    }
   ],
   "source": [
    "(total_tokens/1000)*0.002*7*30"
   ]
  }
 ],
 "metadata": {
  "kernelspec": {
   "display_name": "deep",
   "language": "python",
   "name": "python3"
  },
  "language_info": {
   "codemirror_mode": {
    "name": "ipython",
    "version": 3
   },
   "file_extension": ".py",
   "mimetype": "text/x-python",
   "name": "python",
   "nbconvert_exporter": "python",
   "pygments_lexer": "ipython3",
   "version": "3.9.16"
  },
  "orig_nbformat": 4
 },
 "nbformat": 4,
 "nbformat_minor": 2
}
