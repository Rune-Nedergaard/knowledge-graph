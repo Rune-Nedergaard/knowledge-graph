{
 "cells": [
  {
   "cell_type": "code",
   "execution_count": 1,
   "metadata": {},
   "outputs": [],
   "source": [
    "import pandas as pd\n",
    "import numpy as np\n",
    "import matplotlib.pyplot as plt\n",
    "from rdflib import URIRef, Literal, RDF, Graph, Namespace, XSD"
   ]
  },
  {
   "cell_type": "code",
   "execution_count": 2,
   "metadata": {},
   "outputs": [],
   "source": [
    "# Load the data\n",
    "Sag = pd.read_pickle('../data/raw/Sag.pkl')\n",
    "Subset = Sag[0:500]\n",
    "Dokument = pd.read_pickle('../data/raw/Dokument.pkl')\n",
    "SagDokument = pd.read_pickle('../data/raw/SagDokument.pkl')\n",
    "SagDokumentRolle = pd.read_pickle('../data/raw/SagDokumentRolle.pkl')\n",
    "Aktør = pd.read_pickle('../data/raw/Aktør.pkl')\n",
    "Aktørtype = pd.read_pickle('../data/raw/Aktørtype.pkl')\n",
    "SagAktør = pd.read_pickle('../data/raw/SagAktør.pkl')\n",
    "SagAktørRolle = pd.read_pickle('../data/raw/SagAktørRolle.pkl')\n",
    "DokumentAktør = pd.read_pickle('../data/raw/DokumentAktør.pkl')\n",
    "DokumentAktørRolle = pd.read_pickle('../data/raw/DokumentAktørRolle.pkl')\n",
    "Emneord = pd.read_pickle('../data/raw/Emneord.pkl')\n",
    "EmneordSag = pd.read_pickle('../data/raw/EmneordSag.pkl')\n",
    "EmneordsType = pd.read_pickle('../data/raw/EmneordsType.pkl')"
   ]
  },
  {
   "cell_type": "code",
   "execution_count": 3,
   "metadata": {},
   "outputs": [],
   "source": [
    "g = Graph()"
   ]
  },
  {
   "cell_type": "code",
   "execution_count": 4,
   "metadata": {},
   "outputs": [],
   "source": [
    "# Define the namespaces for your graph\n",
    "EX = Namespace(\"http://XAINLP.com/\")\n",
    "SAG = Namespace(\"http://XAINLP.com/sag/\")\n",
    "DOKUMENT = Namespace(\"http://XAINLP.com/dokument/\")\n",
    "AKTØR = Namespace(\"http://XAINLP.com/aktør/\")\n",
    "SAGAKTØRROLLE = Namespace(\"http://XAINLP.com/sagaktørrolle/\")\n",
    "DOKUMENTAKTØRROLLE = Namespace(\"http://XAINLP.com/dokumentaktørrolle/\")\n",
    "SAGDOKUMENTROLLE = Namespace(\"http://XAINLP.com/sagdokumentrolle/\")\n",
    "EMNEORD = Namespace(\"http://XAINLP.com/emneord/\")\n",
    "EMNEORDSAG = Namespace(\"http://XAINLP.com/emneordsag/\")\n",
    "EMNEORDSTYPE = Namespace(\"http://XAINLP.com/emneordstype/\")\n",
    "# Create a new graph\n",
    "\n",
    "g.bind(\"ex\", EX)\n",
    "g.bind(\"sag\", SAG)\n",
    "g.bind(\"dokument\", DOKUMENT)\n",
    "g.bind(\"aktør\", AKTØR)\n",
    "g.bind(\"sagaktørrolle\", SAGAKTØRROLLE)\n",
    "g.bind(\"dokumentaktørrolle\", DOKUMENTAKTØRROLLE)\n",
    "g.bind(\"sagdokumentrolle\", SAGDOKUMENTROLLE)\n",
    "g.bind(\"emneord\", EMNEORD)\n",
    "g.bind(\"emneordsag\", EMNEORDSAG)"
   ]
  },
  {
   "cell_type": "code",
   "execution_count": 5,
   "metadata": {},
   "outputs": [
    {
     "name": "stderr",
     "output_type": "stream",
     "text": [
      "100%|██████████| 88851/88851 [01:09<00:00, 1278.84it/s]\n"
     ]
    }
   ],
   "source": [
    "# Iterate over each row of the Sag dataframe\n",
    "from tqdm import tqdm\n",
    "for _, row in tqdm(Sag.iterrows(), total=len(Sag)):\n",
    "\n",
    "    # Define the URI for the Sag node\n",
    "    sag_uri = SAG[str(row[\"id\"])]\n",
    "    #print(sag_uri)\n",
    "\n",
    "    # Add the node type\n",
    "    g.add((sag_uri, RDF.type, EX[\"Sag\"]))\n",
    "\n",
    "    # Add the attributes as properties of the Sag node\n",
    "    g.add((sag_uri, SAG[\"typeid\"], Literal(row[\"typeid\"], datatype=XSD.integer)))\n",
    "    g.add((sag_uri, SAG[\"kategoriid\"], Literal(row[\"kategoriid\"], datatype=XSD.integer)))\n",
    "    g.add((sag_uri, SAG[\"statusid\"], Literal(row[\"statusid\"], datatype=XSD.integer)))\n",
    "    g.add((sag_uri, SAG[\"titel\"], Literal(row[\"titel\"])))\n",
    "    g.add((sag_uri, SAG[\"titelkort\"], Literal(row[\"titelkort\"])))\n",
    "    g.add((sag_uri, SAG[\"offentlighedskode\"], Literal(row[\"offentlighedskode\"])))\n",
    "    g.add((sag_uri, SAG[\"nummer\"], Literal(row[\"nummer\"])))\n",
    "    g.add((sag_uri, SAG[\"nummerprefix\"], Literal(row[\"nummerprefix\"])))\n",
    "    g.add((sag_uri, SAG[\"nummernumerisk\"], Literal(row[\"nummernumerisk\"])))\n",
    "    g.add((sag_uri, SAG[\"nummerpostfix\"], Literal(row[\"nummerpostfix\"])))\n",
    "    g.add((sag_uri, SAG[\"resume\"], Literal(row[\"resume\"])))\n",
    "    g.add((sag_uri, SAG[\"afstemningskonklusion\"], Literal(row[\"afstemningskonklusion\"])))\n",
    "    g.add((sag_uri, SAG[\"periodeid\"], Literal(row[\"periodeid\"], datatype=XSD.integer)))\n",
    "    g.add((sag_uri, SAG[\"afgørelsesresultatkode\"], Literal(row[\"afgørelsesresultatkode\"])))\n",
    "    g.add((sag_uri, SAG[\"baggrundsmateriale\"], Literal(row[\"baggrundsmateriale\"])))\n",
    "    g.add((sag_uri, SAG[\"opdateringsdato\"], Literal(row[\"opdateringsdato\"], datatype=XSD.dateTime)))\n",
    "    g.add((sag_uri, SAG[\"statsbudgetsag\"], Literal(row[\"statsbudgetsag\"], datatype=XSD.boolean)))\n",
    "    g.add((sag_uri, SAG[\"begrundelse\"], Literal(row[\"begrundelse\"])))\n",
    "    g.add((sag_uri, SAG[\"paragrafnummer\"], Literal(row[\"paragrafnummer\"])))\n",
    "    g.add((sag_uri, SAG[\"paragraf\"], Literal(row[\"paragraf\"])))\n",
    "    g.add((sag_uri, SAG[\"afgørelsesdato\"], Literal(row[\"afgørelsesdato\"], datatype=XSD.dateTime)))\n",
    "    g.add((sag_uri, SAG[\"afgørelse\"], Literal(row[\"afgørelse\"])))\n",
    "    g.add((sag_uri, SAG[\"rådsmødedato\"], Literal(row[\"rådsmødedato\"], datatype=XSD.dateTime)))\n",
    "    g.add((sag_uri, SAG[\"lovnummer\"], Literal(row[\"lovnummer\"])))\n",
    "    g.add((sag_uri, SAG[\"lovnummerdato\"], Literal(row[\"lovnummerdato\"], datatype=XSD.dateTime)))\n",
    "    g.add((sag_uri, SAG[\"retsinformationsurl\"], Literal(row[\"retsinformationsurl\"])))\n",
    "    g.add((sag_uri, SAG[\"fremsatundersagid\"], Literal(row[\"fremsatundersagid\"])))\n",
    "    g.add((sag_uri, SAG[\"deltundersagid\"], Literal(row[\"deltundersagid\"])))"
   ]
  },
  {
   "cell_type": "code",
   "execution_count": 6,
   "metadata": {},
   "outputs": [
    {
     "name": "stderr",
     "output_type": "stream",
     "text": [
      "100%|██████████| 871023/871023 [03:53<00:00, 3728.37it/s]\n"
     ]
    }
   ],
   "source": [
    "#Adding dokument nodes\n",
    "for _, row in tqdm(Dokument.iterrows(), total=len(Dokument)):\n",
    "    dokument_uri = DOKUMENT[str(row[\"id\"])]\n",
    "    g.add((dokument_uri, RDF.type, EX[\"Dokument\"]))\n",
    "    g.add((dokument_uri, DOKUMENT[\"typeid\"], Literal(row[\"typeid\"], datatype=XSD.integer)))\n",
    "    g.add((dokument_uri, DOKUMENT[\"kategoriid\"], Literal(row[\"kategoriid\"], datatype=XSD.integer)))\n",
    "    g.add((dokument_uri, DOKUMENT[\"statusid\"], Literal(row[\"statusid\"], datatype=XSD.integer)))\n",
    "    g.add((dokument_uri, DOKUMENT[\"titel\"], Literal(row[\"titel\"])))\n",
    "    g.add((dokument_uri, DOKUMENT[\"dato\"], Literal(row[\"dato\"], datatype=XSD.dateTime)))\n",
    "    g.add((dokument_uri, DOKUMENT[\"spørgsmålsid\"], Literal(row[\"spørgsmålsid\"], datatype=XSD.integer)))\n",
    "    g.add((dokument_uri, DOKUMENT[\"spørgsmålstitel\"], Literal(row[\"spørgsmålstitel\"])))\n",
    "    g.add((dokument_uri, DOKUMENT[\"paragraf\"], Literal(row[\"paragraf\"])))\n",
    "    "
   ]
  },
  {
   "cell_type": "code",
   "execution_count": 7,
   "metadata": {},
   "outputs": [
    {
     "name": "stderr",
     "output_type": "stream",
     "text": [
      "100%|██████████| 17659/17659 [00:02<00:00, 7388.17it/s]\n"
     ]
    }
   ],
   "source": [
    "#Adding aktør nodes\n",
    "for _, row in tqdm(Aktør.iterrows(), total=len(Aktør)):\n",
    "  aktør_uri = AKTØR[str(row[\"id\"])]\n",
    "  g.add((aktør_uri, RDF.type, EX[\"Aktør\"]))\n",
    "  g.add((aktør_uri, AKTØR[\"typeid\"], Literal(row[\"typeid\"], datatype=XSD.integer)))\n",
    "  g.add((aktør_uri, AKTØR[\"navn\"], Literal(row[\"navn\"])))\n",
    "  g.add((aktør_uri, AKTØR[\"gruppenavnkort\"], Literal(row[\"gruppenavnkort\"])))\n",
    "  g.add((aktør_uri, AKTØR[\"entity_type\"], Literal(row[\"entity_type\"])))"
   ]
  },
  {
   "cell_type": "code",
   "execution_count": 8,
   "metadata": {},
   "outputs": [
    {
     "data": {
      "text/plain": [
       "{1: 'Tidl._jour._på',\n",
       " 2: 'Parallelomdelt_på',\n",
       " 3: 'På_sagstrin',\n",
       " 4: 'Hovedtilknytning',\n",
       " 5: 'Se_også',\n",
       " 6: 'Relation',\n",
       " 7: 'Child'}"
      ]
     },
     "execution_count": 8,
     "metadata": {},
     "output_type": "execute_result"
    }
   ],
   "source": [
    "SagDokumentRolle_dict = {i: rolle for i, rolle in enumerate(SagDokumentRolle[\"rolle\"].unique(), 1)}\n",
    "SagDokumentRolle_dict = {i: rolle.replace(\" \", \"_\") for i, rolle in SagDokumentRolle_dict.items()}\n",
    "SagDokumentRolle_dict\n"
   ]
  },
  {
   "cell_type": "code",
   "execution_count": 9,
   "metadata": {},
   "outputs": [
    {
     "data": {
      "text/plain": [
       "id                                         21\n",
       "sagid                                    4496\n",
       "dokumentid                               7913\n",
       "bilagsnummer                                 \n",
       "frigivelsesdato           2013-10-16 14:54:51\n",
       "opdateringsdato    2014-09-16 06:16:53.990000\n",
       "rolleid                                     4\n",
       "Name: 0, dtype: object"
      ]
     },
     "execution_count": 9,
     "metadata": {},
     "output_type": "execute_result"
    }
   ],
   "source": [
    "SagDokument.iloc[0]"
   ]
  },
  {
   "cell_type": "code",
   "execution_count": 10,
   "metadata": {},
   "outputs": [
    {
     "name": "stderr",
     "output_type": "stream",
     "text": [
      "100%|██████████| 593091/593091 [00:53<00:00, 11006.05it/s]\n"
     ]
    }
   ],
   "source": [
    "### Adding edges between sag and dokument,\n",
    "\n",
    "# Iterate over each row of the Sag dataframe\n",
    "for _, row in tqdm(SagDokument.iterrows(), total=len(SagDokument)):\n",
    "    # Define the URI for the Sag node\n",
    "    sag_uri = SAG[str(row[\"sagid\"])]\n",
    "    dokument_uri = DOKUMENT[str(row[\"dokumentid\"])]\n",
    "    \n",
    "    # Add the edge type\n",
    "    g.add((sag_uri, EX[\"hasDokument\"], dokument_uri))\n",
    "    g.add((sag_uri, EX[\"isAktørOf\"], aktør_uri))\n",
    "    rolle = SagDokumentRolle_dict[int(row[\"rolleid\"])]\n",
    "    g.add((sag_uri, SAGDOKUMENTROLLE[rolle], dokument_uri))\n"
   ]
  },
  {
   "cell_type": "code",
   "execution_count": 11,
   "metadata": {},
   "outputs": [],
   "source": [
    "#create a dict that maps the rolle to intgers starting at 1\n",
    "\n",
    "SagAktørRolle_dict = {i: rolle for i, rolle in enumerate(SagAktørRolle['rolle'].unique(), 1)}\n"
   ]
  },
  {
   "cell_type": "code",
   "execution_count": 12,
   "metadata": {},
   "outputs": [
    {
     "data": {
      "text/plain": [
       "9     74452\n",
       "6     65801\n",
       "14    64126\n",
       "17    53104\n",
       "10    52164\n",
       "11    27209\n",
       "16    21455\n",
       "12    11166\n",
       "19     4642\n",
       "4      3746\n",
       "15     3722\n",
       "5       881\n",
       "18      352\n",
       "2        75\n",
       "3        37\n",
       "8        32\n",
       "13       11\n",
       "7         2\n",
       "1         1\n",
       "Name: rolleid, dtype: int64"
      ]
     },
     "execution_count": 12,
     "metadata": {},
     "output_type": "execute_result"
    }
   ],
   "source": [
    "SagAktør[\"rolleid\"].value_counts()"
   ]
  },
  {
   "cell_type": "code",
   "execution_count": 13,
   "metadata": {},
   "outputs": [
    {
     "data": {
      "text/plain": [
       "{1: 'Taler',\n",
       " 2: 'Ordfører_for_forslagsstillerne',\n",
       " 3: 'Tidligere_henvist_til',\n",
       " 4: 'Af',\n",
       " 5: 'Medspørger',\n",
       " 6: 'Ministerområde',\n",
       " 7: 'Privatist',\n",
       " 8: 'Kopi_sendt_til',\n",
       " 9: 'Relevant_for',\n",
       " 10: 'Spørger',\n",
       " 11: 'Henvist_til',\n",
       " 12: 'Udsteder',\n",
       " 13: 'Optaget_af',\n",
       " 14: 'Minister',\n",
       " 15: 'Forespørger',\n",
       " 16: 'Forslagsstiller_(priv.)',\n",
       " 17: 'Til',\n",
       " 18: 'Afgivet_af',\n",
       " 19: 'Forslagsstiller_(reg.)',\n",
       " 20: 'Orlovssøgende',\n",
       " 21: 'Stedfortræder',\n",
       " 22: 'Statsrevisor_inhabil',\n",
       " 23: 'Besvaret_af'}"
      ]
     },
     "execution_count": 13,
     "metadata": {},
     "output_type": "execute_result"
    }
   ],
   "source": [
    "#replace space with underscore\n",
    "SagAktørRolle_dict = {i: rolle.replace(\" \", \"_\") for i, rolle in SagAktørRolle_dict.items()}\n",
    "SagAktørRolle_dict"
   ]
  },
  {
   "cell_type": "code",
   "execution_count": 14,
   "metadata": {},
   "outputs": [
    {
     "name": "stderr",
     "output_type": "stream",
     "text": [
      "100%|██████████| 382978/382978 [00:28<00:00, 13280.81it/s]\n"
     ]
    }
   ],
   "source": [
    "# Doing the same for Sag and Aktør\n",
    "for _, row in tqdm(SagAktør.iterrows(), total=len(SagAktør)):\n",
    "    sag_uri = SAG[str(row[\"sagid\"])]\n",
    "    aktør_uri = AKTØR[str(row[\"aktørid\"])]\n",
    "    g.add((sag_uri, EX[\"hasAktør\"], aktør_uri))\n",
    "    g.add((aktør_uri, EX[\"isAktørOf\"], sag_uri))\n",
    "    rolle = SagAktørRolle_dict[int(row[\"rolleid\"])]\n",
    "    g.add((sag_uri, SAGAKTØRROLLE[rolle], aktør_uri))\n",
    "    "
   ]
  },
  {
   "cell_type": "code",
   "execution_count": 15,
   "metadata": {},
   "outputs": [
    {
     "data": {
      "text/plain": [
       "{1: 'Afsender',\n",
       " 2: 'Kopi_til',\n",
       " 3: 'Stiller/MFU',\n",
       " 4: 'Besvaret_af',\n",
       " 5: 'Minister',\n",
       " 6: 'Spørger',\n",
       " 7: 'Medspørger',\n",
       " 8: 'Til',\n",
       " 9: 'Ministerområde',\n",
       " 10: 'Adressat',\n",
       " 11: 'Modtager',\n",
       " 12: 'Stiller',\n",
       " 13: 'Relevant_for',\n",
       " 14: 'Afgivet_af',\n",
       " 15: 'BCC',\n",
       " 16: 'Kontakt',\n",
       " 17: 'Deltager',\n",
       " 18: 'Behandles_i',\n",
       " 19: 'Forslagsstiller',\n",
       " 20: 'Ordfører_for_forslagsstillerne',\n",
       " 21: 'Ordfører_for_forespørgerne',\n",
       " 22: 'Ordfører',\n",
       " 23: 'Taler'}"
      ]
     },
     "execution_count": 15,
     "metadata": {},
     "output_type": "execute_result"
    }
   ],
   "source": [
    "\n",
    "#First creating a dict that maps the rolle to intgers starting at 1\n",
    "DokumentAktørRolle_dict = {i: rolle for i, rolle in enumerate(DokumentAktørRolle['rolle'].unique(), 1)}\n",
    "DokumentAktørRolle_dict = {i: rolle.replace(\" \", \"_\") for i, rolle in DokumentAktørRolle_dict.items()}\n",
    "DokumentAktørRolle_dict"
   ]
  },
  {
   "cell_type": "code",
   "execution_count": 16,
   "metadata": {},
   "outputs": [
    {
     "name": "stderr",
     "output_type": "stream",
     "text": [
      "100%|██████████| 933647/933647 [01:22<00:00, 11294.79it/s]\n"
     ]
    }
   ],
   "source": [
    "#Doing the same for Dokument and Aktør\n",
    "\n",
    "for _, row in tqdm(DokumentAktør.iterrows(), total=len(DokumentAktør)):\n",
    "    dokument_uri = DOKUMENT[str(row[\"dokumentid\"])]\n",
    "    aktør_uri = AKTØR[str(row[\"aktørid\"])]\n",
    "    g.add((dokument_uri, EX[\"hasAktør\"], aktør_uri))\n",
    "    g.add((aktør_uri, EX[\"isAktørOf\"], dokument_uri))\n",
    "    rolle = DokumentAktørRolle_dict[int(row[\"rolleid\"])]\n",
    "    g.add((dokument_uri, DOKUMENTAKTØRROLLE[rolle], aktør_uri))"
   ]
  },
  {
   "cell_type": "code",
   "execution_count": 17,
   "metadata": {},
   "outputs": [
    {
     "data": {
      "text/plain": [
       "{1: 'Sagsområde',\n",
       " 2: 'Ukontrolleret',\n",
       " 3: 'Kontrolleret',\n",
       " 4: 'Lovsagsnavn',\n",
       " 5: 'Thesaurus',\n",
       " 6: 'Kontonummer',\n",
       " 7: 'Retsgrundlag'}"
      ]
     },
     "execution_count": 17,
     "metadata": {},
     "output_type": "execute_result"
    }
   ],
   "source": [
    "#Creating Emneordstype dict\n",
    "EmneordsType_dict = {i: emneordstype for i, emneordstype in enumerate(EmneordsType[\"type\"].unique(), 1)}\n",
    "\n",
    "EmneordsType_dict"
   ]
  },
  {
   "cell_type": "code",
   "execution_count": 18,
   "metadata": {},
   "outputs": [
    {
     "data": {
      "text/plain": [
       "id                                          1\n",
       "typeid                                      1\n",
       "emneord                 økonomisk redegørelse\n",
       "opdateringsdato    2014-12-16 18:44:04.673000\n",
       "Name: 0, dtype: object"
      ]
     },
     "execution_count": 18,
     "metadata": {},
     "output_type": "execute_result"
    }
   ],
   "source": [
    "Emneord.iloc[0]"
   ]
  },
  {
   "cell_type": "code",
   "execution_count": null,
   "metadata": {},
   "outputs": [],
   "source": []
  },
  {
   "cell_type": "code",
   "execution_count": 19,
   "metadata": {},
   "outputs": [
    {
     "name": "stderr",
     "output_type": "stream",
     "text": [
      "100%|██████████| 48826/48826 [00:03<00:00, 13514.40it/s]\n"
     ]
    }
   ],
   "source": [
    "#adding emneord as nodes?\n",
    "for _, row in tqdm(Emneord.iterrows(), total=len(Emneord)):\n",
    "    emneord_uri = EMNEORD[str(row[\"id\"])]\n",
    "    g.add((emneord_uri, RDF.type, EX[\"Emneord\"]))\n",
    "    g.add((emneord_uri, EMNEORD[\"emneord\"], Literal(row[\"emneord\"])))\n",
    "    emneordstype = EmneordsType_dict[int(row[\"typeid\"])]\n",
    "    "
   ]
  },
  {
   "cell_type": "code",
   "execution_count": 20,
   "metadata": {},
   "outputs": [
    {
     "name": "stderr",
     "output_type": "stream",
     "text": [
      "100%|██████████| 252987/252987 [01:02<00:00, 4063.66it/s]\n"
     ]
    }
   ],
   "source": [
    "#Linking Sag and Emneord\n",
    "for _, row in tqdm(EmneordSag.iterrows(), total=len(EmneordSag)):\n",
    "    sag_uri = SAG[str(row[\"sagid\"])]\n",
    "    emneord_uri = EMNEORD[str(row[\"emneordid\"])]\n",
    "    g.add((sag_uri, EX[\"hasEmneord\"], emneord_uri))\n",
    "    g.add((emneord_uri, EX[\"isEmneordOf\"], sag_uri))\n",
    "    emneordstypdid = Emneord[\"typeid\"][Emneord[\"id\"] == row[\"emneordid\"]]\n",
    "    emneordtype = EmneordsType_dict[int(emneordstypdid)]\n",
    "    g.add((sag_uri, EMNEORDSTYPE[emneordtype], emneord_uri))"
   ]
  },
  {
   "cell_type": "code",
   "execution_count": 21,
   "metadata": {},
   "outputs": [
    {
     "name": "stdout",
     "output_type": "stream",
     "text": [
      "http://www.w3.org/1999/02/22-rdf-syntax-ns#type: http://XAINLP.com/Sag\n",
      "http://XAINLP.com/sag/typeid: 7\n",
      "http://XAINLP.com/sag/kategoriid: <NA>\n",
      "http://XAINLP.com/sag/statusid: 54\n",
      "http://XAINLP.com/sag/titel: Forslag til Europa-Parlamentets og Rådets direktiv om foreløbig retshjælp til mistænkte eller tiltalte, der frihedsberøves, og retshjælp i sager angående europæiske arrestordrer\n",
      "http://XAINLP.com/sag/titelkort: Forslag til Europa-Parlamentets og Rådets direktiv om foreløbig retshjælp til mistænkte eller tiltalte, der frihedsberøves, og retshjælp i sager angående europæiske arrestordrer\n",
      "http://XAINLP.com/sag/offentlighedskode: O\n",
      "http://XAINLP.com/sag/nummer: KOM (2013) 0824\n",
      "http://XAINLP.com/sag/nummerprefix: KOM\n",
      "http://XAINLP.com/sag/nummernumerisk: 824\n",
      "http://XAINLP.com/sag/nummerpostfix: \n",
      "http://XAINLP.com/sag/resume: <div>\n",
      "\n",
      "\n",
      "<p>\n",
      "<strong>Forslaget er modtaget</strong> af Folketinget i dansk sprogudgave \n",
      " den&nbsp;18. december&nbsp;2013, jf. <a href=\"http://www.euo.dk/upload/application/pdf/d83cf832/Protokol2_naerhed.pdf\">Lissabontraktatens \n",
      " protokol nr. 2</a> om kontrol med nærhedsprincippet. <strong>Fristen \n",
      "</strong>på  8 uger for fremsendelse af Folketingets begrundede udtalelse  \n",
      "<strong>udløb&nbsp;ifølge IPEX&nbsp;12. februar&nbsp;2014.</strong>&nbsp; \n",
      "</p>\n",
      "\n",
      "\n",
      "<div>\n",
      "\n",
      "\n",
      "<div>\n",
      "\n",
      "\n",
      "<p>\n",
      "<a href=\"/164373.docid\">Læs</a> \n",
      "Kommissionens fremsendelsesbrev   \n",
      "</p>\n",
      "\n",
      "</div>\n",
      "\n",
      "</div>\n",
      "\n",
      "</div>\n",
      "http://XAINLP.com/sag/afstemningskonklusion: None\n",
      "http://XAINLP.com/sag/periodeid: 14\n",
      "http://XAINLP.com/sag/afgørelsesresultatkode: None\n",
      "http://XAINLP.com/sag/baggrundsmateriale: None\n",
      "http://XAINLP.com/sag/opdateringsdato: 2016-11-17 13:09:26.873000\n",
      "http://XAINLP.com/sag/statsbudgetsag: False\n",
      "http://XAINLP.com/sag/begrundelse: None\n",
      "http://XAINLP.com/sag/paragrafnummer: <NA>\n",
      "http://XAINLP.com/sag/paragraf: None\n",
      "http://XAINLP.com/sag/afgørelsesdato: NaT\n",
      "http://XAINLP.com/sag/afgørelse: None\n",
      "http://XAINLP.com/sag/rådsmødedato: NaT\n",
      "http://XAINLP.com/sag/lovnummer: None\n",
      "http://XAINLP.com/sag/lovnummerdato: NaT\n",
      "http://XAINLP.com/sag/retsinformationsurl: None\n",
      "http://XAINLP.com/sag/fremsatundersagid: <NA>\n",
      "http://XAINLP.com/sag/deltundersagid: <NA>\n",
      "http://XAINLP.com/hasDokument: http://XAINLP.com/dokument/21\n",
      "http://XAINLP.com/hasDokument: http://XAINLP.com/dokument/22\n",
      "http://XAINLP.com/hasDokument: http://XAINLP.com/dokument/20\n",
      "http://XAINLP.com/isAktørOf: http://XAINLP.com/aktør/20539\n",
      "http://XAINLP.com/sagdokumentrolle/Hovedtilknytning: http://XAINLP.com/dokument/21\n",
      "http://XAINLP.com/sagdokumentrolle/Hovedtilknytning: http://XAINLP.com/dokument/22\n",
      "http://XAINLP.com/sagdokumentrolle/Hovedtilknytning: http://XAINLP.com/dokument/20\n",
      "http://XAINLP.com/hasAktør: http://XAINLP.com/aktør/22\n",
      "http://XAINLP.com/hasAktør: http://XAINLP.com/aktør/13691\n",
      "http://XAINLP.com/sagaktørrolle/Relevant_for: http://XAINLP.com/aktør/22\n",
      "http://XAINLP.com/sagaktørrolle/Henvist_til: http://XAINLP.com/aktør/13691\n",
      "http://XAINLP.com/hasEmneord: http://XAINLP.com/emneord/35711\n",
      "http://XAINLP.com/hasEmneord: http://XAINLP.com/emneord/44103\n",
      "http://XAINLP.com/hasEmneord: http://XAINLP.com/emneord/35331\n",
      "http://XAINLP.com/hasEmneord: http://XAINLP.com/emneord/33102\n",
      "http://XAINLP.com/hasEmneord: http://XAINLP.com/emneord/33101\n",
      "http://XAINLP.com/emneordstype/Kontrolleret: http://XAINLP.com/emneord/35711\n",
      "http://XAINLP.com/emneordstype/Ukontrolleret: http://XAINLP.com/emneord/44103\n",
      "http://XAINLP.com/emneordstype/Ukontrolleret: http://XAINLP.com/emneord/35331\n",
      "http://XAINLP.com/emneordstype/Sagsområde: http://XAINLP.com/emneord/33102\n",
      "http://XAINLP.com/emneordstype/Sagsområde: http://XAINLP.com/emneord/33101\n"
     ]
    }
   ],
   "source": [
    "sag_nodes = sorted([sag for sag in g.subjects(RDF.type, EX[\"Sag\"])])\n",
    "if len(sag_nodes) >= 2:\n",
    "    sag_node = sag_nodes[1]\n",
    "\n",
    "    # Print the attributes of the second Sag node\n",
    "    for s, p, o in g.triples((sag_node, None, None)):\n",
    "        if isinstance(o, Literal):\n",
    "            print(f\"{p}: {o.value}\")\n",
    "        else:\n",
    "            print(f\"{p}: {o}\")\n",
    "else:\n",
    "    print(\"There are not enough Sag nodes in the graph.\")"
   ]
  },
  {
   "cell_type": "code",
   "execution_count": 22,
   "metadata": {},
   "outputs": [
    {
     "name": "stdout",
     "output_type": "stream",
     "text": [
      "http://www.w3.org/1999/02/22-rdf-syntax-ns#type: http://XAINLP.com/Sag\n",
      "http://XAINLP.com/sag/typeid: 7\n",
      "http://XAINLP.com/sag/kategoriid: <NA>\n",
      "http://XAINLP.com/sag/statusid: 54\n",
      "http://XAINLP.com/sag/titel: Forslag til Europa-Parlamentets og Rådets direktiv om foreløbig retshjælp til mistænkte eller tiltalte, der frihedsberøves, og retshjælp i sager angående europæiske arrestordrer\n",
      "http://XAINLP.com/sag/titelkort: Forslag til Europa-Parlamentets og Rådets direktiv om foreløbig retshjælp til mistænkte eller tiltalte, der frihedsberøves, og retshjælp i sager angående europæiske arrestordrer\n",
      "http://XAINLP.com/sag/offentlighedskode: O\n",
      "http://XAINLP.com/sag/nummer: KOM (2013) 0824\n",
      "http://XAINLP.com/sag/nummerprefix: KOM\n",
      "http://XAINLP.com/sag/nummernumerisk: 824\n",
      "http://XAINLP.com/sag/nummerpostfix: \n",
      "http://XAINLP.com/sag/resume: <div>\n",
      "\n",
      "\n",
      "<p>\n",
      "<strong>Forslaget er modtaget</strong> af Folketinget i dansk sprogudgave \n",
      " den&nbsp;18. december&nbsp;2013, jf. <a href=\"http://www.euo.dk/upload/application/pdf/d83cf832/Protokol2_naerhed.pdf\">Lissabontraktatens \n",
      " protokol nr. 2</a> om kontrol med nærhedsprincippet. <strong>Fristen \n",
      "</strong>på  8 uger for fremsendelse af Folketingets begrundede udtalelse  \n",
      "<strong>udløb&nbsp;ifølge IPEX&nbsp;12. februar&nbsp;2014.</strong>&nbsp; \n",
      "</p>\n",
      "\n",
      "\n",
      "<div>\n",
      "\n",
      "\n",
      "<div>\n",
      "\n",
      "\n",
      "<p>\n",
      "<a href=\"/164373.docid\">Læs</a> \n",
      "Kommissionens fremsendelsesbrev   \n",
      "</p>\n",
      "\n",
      "</div>\n",
      "\n",
      "</div>\n",
      "\n",
      "</div>\n",
      "http://XAINLP.com/sag/afstemningskonklusion: None\n",
      "http://XAINLP.com/sag/periodeid: 14\n",
      "http://XAINLP.com/sag/afgørelsesresultatkode: None\n",
      "http://XAINLP.com/sag/baggrundsmateriale: None\n",
      "http://XAINLP.com/sag/opdateringsdato: 2016-11-17 13:09:26.873000\n",
      "http://XAINLP.com/sag/statsbudgetsag: False\n",
      "http://XAINLP.com/sag/begrundelse: None\n",
      "http://XAINLP.com/sag/paragrafnummer: <NA>\n",
      "http://XAINLP.com/sag/paragraf: None\n",
      "http://XAINLP.com/sag/afgørelsesdato: NaT\n",
      "http://XAINLP.com/sag/afgørelse: None\n",
      "http://XAINLP.com/sag/rådsmødedato: NaT\n",
      "http://XAINLP.com/sag/lovnummer: None\n",
      "http://XAINLP.com/sag/lovnummerdato: NaT\n",
      "http://XAINLP.com/sag/retsinformationsurl: None\n",
      "http://XAINLP.com/sag/fremsatundersagid: <NA>\n",
      "http://XAINLP.com/sag/deltundersagid: <NA>\n",
      "http://XAINLP.com/hasDokument: http://XAINLP.com/dokument/21\n",
      "http://XAINLP.com/hasDokument: http://XAINLP.com/dokument/22\n",
      "http://XAINLP.com/hasDokument: http://XAINLP.com/dokument/20\n",
      "http://XAINLP.com/isAktørOf: http://XAINLP.com/aktør/20539\n",
      "http://XAINLP.com/sagdokumentrolle/Hovedtilknytning: http://XAINLP.com/dokument/21\n",
      "http://XAINLP.com/sagdokumentrolle/Hovedtilknytning: http://XAINLP.com/dokument/22\n",
      "http://XAINLP.com/sagdokumentrolle/Hovedtilknytning: http://XAINLP.com/dokument/20\n",
      "http://XAINLP.com/hasAktør: http://XAINLP.com/aktør/22\n",
      "http://XAINLP.com/hasAktør: http://XAINLP.com/aktør/13691\n",
      "http://XAINLP.com/sagaktørrolle/Relevant_for: http://XAINLP.com/aktør/22\n",
      "http://XAINLP.com/sagaktørrolle/Henvist_til: http://XAINLP.com/aktør/13691\n",
      "http://XAINLP.com/hasEmneord: http://XAINLP.com/emneord/35711\n",
      "http://XAINLP.com/hasEmneord: http://XAINLP.com/emneord/44103\n",
      "http://XAINLP.com/hasEmneord: http://XAINLP.com/emneord/35331\n",
      "http://XAINLP.com/hasEmneord: http://XAINLP.com/emneord/33102\n",
      "http://XAINLP.com/hasEmneord: http://XAINLP.com/emneord/33101\n",
      "http://XAINLP.com/emneordstype/Kontrolleret: http://XAINLP.com/emneord/35711\n",
      "http://XAINLP.com/emneordstype/Ukontrolleret: http://XAINLP.com/emneord/44103\n",
      "http://XAINLP.com/emneordstype/Ukontrolleret: http://XAINLP.com/emneord/35331\n",
      "http://XAINLP.com/emneordstype/Sagsområde: http://XAINLP.com/emneord/33102\n",
      "http://XAINLP.com/emneordstype/Sagsområde: http://XAINLP.com/emneord/33101\n"
     ]
    }
   ],
   "source": [
    "sag_nodes = sorted([sag for sag in g.subjects(RDF.type, EX[\"Sag\"])])\n",
    "if len(sag_nodes) >= 2:\n",
    "    sag_node = sag_nodes[1]\n",
    "\n",
    "    # Print the attributes of the second Sag node\n",
    "    for s, p, o in g.triples((sag_node, None, None)):\n",
    "        if isinstance(o, Literal):\n",
    "            print(f\"{p}: {o.value}\")\n",
    "        else:\n",
    "            print(f\"{p}: {o}\")\n",
    "else:\n",
    "    print(\"There are not enough Sag nodes in the graph.\")"
   ]
  },
  {
   "attachments": {},
   "cell_type": "markdown",
   "metadata": {},
   "source": [
    "### The SPARQL for selecting dokuments linked to sag id works"
   ]
  },
  {
   "cell_type": "code",
   "execution_count": 40,
   "metadata": {},
   "outputs": [
    {
     "data": {
      "text/plain": [
       "<Graph identifier=Ne5fd941128014243bc6ddef7c1d9fd9e (<class 'rdflib.graph.Graph'>)>"
      ]
     },
     "execution_count": 40,
     "metadata": {},
     "output_type": "execute_result"
    }
   ],
   "source": [
    "#Save the graph\n",
    "#g.serialize(destination='../data/graph.ttl', format='turtle')"
   ]
  },
  {
   "cell_type": "code",
   "execution_count": 78,
   "metadata": {},
   "outputs": [],
   "source": [
    "from rdflib import Graph, Literal\n",
    "from rdflib.namespace import RDF, RDFS, FOAF, XSD\n",
    "from rdflib.plugins.sparql import prepareQuery\n",
    "\n",
    "\n",
    "def get_linked_dokument_ids(g, sagid):\n",
    "    # Define the URI for the Sag node\n",
    "    sag_uri = SAG[str(sagid)]\n",
    "\n",
    "    # Prepare the SPARQL query\n",
    "    query_str = \"\"\"\n",
    "        PREFIX ex: <http://XAINLP.com/>\n",
    "        SELECT ?dokument WHERE {{\n",
    "            <{sag_uri}> ex:hasDokument ?dokument .\n",
    "            ?dokument a ex:Dokument .\n",
    "        }}\n",
    "    \"\"\".format(sag_uri=sag_uri)\n",
    "    print(query_str)\n",
    "    query = prepareQuery(query_str, initNs={\"ex\": EX})\n",
    "\n",
    "    # Execute the query and retrieve the results\n",
    "    result = g.query(query)\n",
    "\n",
    "    # Extract the dokument IDs from the results\n",
    "    dokument_ids = [str(row[\"dokument\"].split(\"/\")[-1]) for row in result]\n",
    "\n",
    "    return dokument_ids\n"
   ]
  },
  {
   "cell_type": "code",
   "execution_count": 79,
   "metadata": {},
   "outputs": [
    {
     "name": "stdout",
     "output_type": "stream",
     "text": [
      "\n",
      "        PREFIX ex: <http://XAINLP.com/>\n",
      "        SELECT ?dokument WHERE {\n",
      "            <http://XAINLP.com/sag/2> ex:hasDokument ?dokument .\n",
      "            ?dokument a ex:Dokument .\n",
      "        }\n",
      "    \n",
      "['2', '3']\n"
     ]
    }
   ],
   "source": [
    "test = get_linked_dokument_ids(g, 2)\n",
    "print(test)"
   ]
  },
  {
   "cell_type": "code",
   "execution_count": 80,
   "metadata": {},
   "outputs": [
    {
     "name": "stdout",
     "output_type": "stream",
     "text": [
      "{\n",
      "   ?person rdf:type ex:Person . \n",
      "   ?person ex:hasName ?name . \n",
      "}\n",
      "\n"
     ]
    }
   ],
   "source": [
    "from SPARQLBurger.SPARQLQueryBuilder import *\n",
    "\n",
    "# Create a graph pattern\n",
    "pattern = SPARQLGraphPattern()\n",
    "\n",
    "# Add a couple of triples to the pattern\n",
    "pattern.add_triples(\n",
    "        triples=[\n",
    "            Triple(subject=\"?person\", predicate=\"rdf:type\", object=\"ex:Person\"),\n",
    "            Triple(subject=\"?person\", predicate=\"ex:hasName\", object=\"?name\")\n",
    "        ]\n",
    "    )\n",
    "\n",
    "# Let's print this graph pattern\n",
    "print(pattern.get_text())"
   ]
  },
  {
   "cell_type": "code",
   "execution_count": 81,
   "metadata": {},
   "outputs": [
    {
     "name": "stdout",
     "output_type": "stream",
     "text": [
      "PREFIX ex: <http://XAINLP.com/>\n",
      "\n",
      "SELECT ?dokument\n",
      "WHERE {\n",
      "   INSERT ex:hasDokument ?dokument . \n",
      "   ?dokument rdf:type ex:Dokument . \n",
      "}\n",
      "LIMIT 100\n"
     ]
    }
   ],
   "source": [
    "from SPARQLBurger.SPARQLQueryBuilder import *\n",
    "\n",
    "\n",
    "\n",
    "#sag_uri = SAG[str(2)]\n",
    "\n",
    "# Create an object of class SPARQLSelectQuery and set the limit for the results to 100\n",
    "select_query = SPARQLSelectQuery(distinct=False, limit=100)\n",
    "\n",
    "# Add a prefix\n",
    "select_query.add_prefix(\n",
    "    prefix=Prefix(prefix=\"ex\", namespace=\"http://XAINLP.com/\")\n",
    ")\n",
    "\n",
    "#EX = Namespace(\"http://XAINLP.com/\")\n",
    "\n",
    "# Add the variables we want to select\n",
    "select_query.add_variables(variables=[\"?dokument\"])\n",
    "\n",
    "# Create a graph pattern to use for the WHERE part and add some triples\n",
    "where_pattern = SPARQLGraphPattern()\n",
    "where_pattern.add_triples(\n",
    "        triples=[\n",
    "            Triple(subject=\"INSERT\", predicate=\"ex:hasDokument\", object=\"?dokument\"),\n",
    "            Triple(subject=\"?dokument\", predicate=\"rdf:type\", object=\"ex:Dokument\") #rdf:type or a is the same\n",
    "            #Triple(subject=\"?aktør\", predicate=\"ex:isAktørOf\", object=\"?sag\"),\n",
    "            #Triple(subject=\"?person\", predicate=\"ex:address\", object=\"?address\"),\n",
    "        ]\n",
    "    )\n",
    "\n",
    "# Set this graph pattern to the WHERE part\n",
    "select_query.set_where_pattern(graph_pattern=where_pattern)\n",
    "\n",
    "\n",
    "\n",
    "# Print the query we have defined\n",
    "print(select_query.get_text())\n",
    "burger = select_query.get_text()"
   ]
  },
  {
   "cell_type": "code",
   "execution_count": 82,
   "metadata": {},
   "outputs": [
    {
     "name": "stderr",
     "output_type": "stream",
     "text": [
      "<http://XAINLP.com/sag/2 does not look like a valid URI, trying to serialize this will break.\n",
      "<http://XAINLP.com/sag/2> does not look like a valid URI, trying to serialize this will break.\n"
     ]
    },
    {
     "name": "stdout",
     "output_type": "stream",
     "text": [
      "PREFIX ex: <http://XAINLP.com/>\n",
      "\n",
      "SELECT ?dokument\n",
      "WHERE {\n",
      "   <http://XAINLP.com/sag/2> ex:hasDokument ?dokument . \n",
      "   ?dokument rdf:type ex:Dokument . \n",
      "}\n",
      "LIMIT 100\n",
      "['2', '3']\n"
     ]
    }
   ],
   "source": [
    "from rdflib import Graph, Literal\n",
    "from rdflib.namespace import RDF, RDFS, FOAF, XSD\n",
    "from rdflib.plugins.sparql import prepareQuery\n",
    "\n",
    "\n",
    "def get_linked_dokument_ids(g, sagid, burger):\n",
    "    # Define the URI for the Sag node\n",
    "    sag_uri = SAG[str(sagid)]\n",
    "\n",
    "    # Prepare the SPARQL query. Replace INSERT with sag_uri\n",
    "    query_str = burger.replace(\"INSERT\", \"<\"+sag_uri+\">\")\n",
    "    print(query_str)\n",
    "    query = prepareQuery(query_str, initNs={\"ex\": EX})\n",
    "\n",
    "    # Execute the query and retrieve the results\n",
    "    result = g.query(query)\n",
    "\n",
    "    # Extract the dokument IDs from the results\n",
    "    dokument_ids = [str(row[\"dokument\"].split(\"/\")[-1]) for row in result]\n",
    "\n",
    "    return dokument_ids\n",
    "\n",
    "test = get_linked_dokument_ids(g, 2, burger)\n",
    "print(test)"
   ]
  },
  {
   "attachments": {},
   "cell_type": "markdown",
   "metadata": {},
   "source": [
    "### Now attempting to select all sager with a given emneord"
   ]
  },
  {
   "attachments": {},
   "cell_type": "markdown",
   "metadata": {},
   "source": [
    "Currently the graph contains:\n",
    "* Sager with atrributes\n",
    "* Dokumenter with attributes\n",
    "* Aktører with attributes\n",
    "* SagDokument links with rollenavn\n",
    "* SagAktør links with rollenavn\n",
    "* DokumentAktør links with rollenav\n",
    "* EmneordSag links with emneordstype\n",
    "\n",
    "Missing:\n",
    "* SagKategori perhaps"
   ]
  },
  {
   "cell_type": "code",
   "execution_count": 69,
   "metadata": {},
   "outputs": [
    {
     "name": "stderr",
     "output_type": "stream",
     "text": [
      "<http://XAINLP.com/emneord/33101 does not look like a valid URI, trying to serialize this will break.\n",
      "<http://XAINLP.com/emneord/33101> does not look like a valid URI, trying to serialize this will break.\n"
     ]
    },
    {
     "name": "stdout",
     "output_type": "stream",
     "text": [
      "b'PREFIX ex: <http://XAINLP.com/>\\nPREFIX sag: <http://XAINLP.com/sag/>\\n\\nSELECT ?sag ?titel\\nWHERE {\\n   ?sag ex:hasEmneord <http://XAINLP.com/emneord/33101> . \\n   ?sag rdf:type ex:Sag . \\n   ?sag sag:titel ?titel . \\n}\\nLIMIT 100'\n",
      "Title is Forslag til RÅDETS FORORDNING om ændring af forordning (EF) nr. 798/2004 om forlængelse af de restriktive foranstaltninger over for Burma/Myanmar, for så vidt angår finansieringen af visse virksomheder \n",
      "Sag ID is http://XAINLP.com/sag/28715\n",
      "Title is Forslag til Rådets afgørelse om undertegnelse og midlertidig anvendelse af en protokol til Euro-Middelhavsaftalen mellem De Europæiske Fællesskaber og deres medlemsstater på den ene side og Staten Israel på den anden side for at tage hensyn til Den Tjekkiske Republiks, Republikken Estlands, Republikken Cyperns, Republikken Letlands, Republikken Litauens, Republikken Ungarns, Republikken Maltas,...\n",
      "\n",
      "Sag ID is http://XAINLP.com/sag/30683\n",
      "Title is Rådsmøde nr. 2638 (Økofin) 17/2-2005\n",
      "Sag ID is http://XAINLP.com/sag/31068\n",
      "Title is Forslag til Rådets forordning om indførelse af visse specifikke restriktive foranstaltninger mod visse personer og enheder på baggrund af situationen i Côte d'Ivoire (forelagt af Kommissionen) \n",
      "\n",
      "Sag ID is http://XAINLP.com/sag/31098\n"
     ]
    }
   ],
   "source": [
    "def get_sag_titel_from_emneordid(g, emneordid):\n",
    "    emneord_uri = EMNEORD[str(emneordid)]\n",
    "    select_query = SPARQLSelectQuery(distinct=False, limit=100)\n",
    "    select_query.add_prefix(\n",
    "        prefix=Prefix(prefix=\"ex\", namespace=\"{EX}\")\n",
    "    )\n",
    "    select_query.add_prefix(\n",
    "        prefix=Prefix(prefix=\"sag\", namespace=\"{SAG}\")\n",
    "    )\n",
    "    select_query.add_variables(variables=[\"?sag\", \"?titel\"])\n",
    "    where_pattern = SPARQLGraphPattern()\n",
    "    where_pattern.add_triples(\n",
    "        triples=[\n",
    "            Triple(\"?sag\", \"ex:hasEmneord\", \"{emneord_uri}\"),\n",
    "            Triple(\"?sag\", \"rdf:type\", \"ex:Sag\"),\n",
    "            Triple(\"?sag\", \"sag:titel\", \"?titel\")]\n",
    "    )\n",
    "\n",
    "    select_query.set_where_pattern(graph_pattern=where_pattern)\n",
    "\n",
    "    burger = select_query.get_text()\n",
    "    query_str = f\"{burger.replace('{EX}', EX).replace('{SAG}', SAG).replace('{emneord_uri}', '<' + emneord_uri + '>')}\"\n",
    "    query_str = query_str.encode('utf-8')\n",
    "    print(query_str)\n",
    "    query = prepareQuery(query_str, initNs={\"ex\": EX, \"sag\": SAG})\n",
    "    result = g.query(query)\n",
    "\n",
    "    return result\n",
    "\n",
    "count = 0\n",
    "for row in get_sag_titel_from_emneordid(g, 33101):\n",
    "    count += 1\n",
    "    if count <5:\n",
    "        print(f\"Title is {row[1]}\")\n",
    "        print(f\"Sag ID is {row[0]}\")"
   ]
  },
  {
   "attachments": {},
   "cell_type": "markdown",
   "metadata": {},
   "source": [
    "### Attempting to find sag nodes based on aktør ids"
   ]
  },
  {
   "cell_type": "code",
   "execution_count": 72,
   "metadata": {},
   "outputs": [],
   "source": [
    "def get_sag_titel_from_aktør_ids(g, aktør_ids):\n",
    "    select_query = SPARQLSelectQuery(distinct=False, limit=100)\n",
    "    select_query.add_prefix(\n",
    "        prefix=Prefix(prefix=\"ex\", namespace=\"{EX}\")\n",
    "    )\n",
    "    select_query.add_prefix(\n",
    "        prefix=Prefix(prefix=\"sag\", namespace=\"{SAG}\")\n",
    "    )\n",
    "    select_query.add_prefix(\n",
    "        prefix=Prefix(prefix=\"aktør\", namespace=\"{AKTØR}\")\n",
    "    )\n",
    "    select_query.add_variables(variables=[\"?sag\", \"?titel\"])\n",
    "    where_pattern = SPARQLGraphPattern()\n",
    "\n",
    "    aktør_uris = \", \".join(f\"<{AKTØR}{aktør_id}>\" for aktør_id in aktør_ids)\n",
    "    filter_clause = f\"(?aktør IN ({aktør_uris}))\"\n",
    "\n",
    "    where_pattern.add_triples(\n",
    "        triples=[\n",
    "            Triple(\"?sag\", \"ex:hasAktør\", \"?aktør\"),\n",
    "            Triple(\"?sag\", \"rdf:type\", \"ex:Sag\"),\n",
    "            Triple(\"?sag\", \"sag:titel\", \"?titel\")]\n",
    "    )\n",
    "    where_pattern.add_filter(filter=Filter(expression=filter_clause))\n",
    "\n",
    "    select_query.set_where_pattern(graph_pattern=where_pattern)\n",
    "\n",
    "    burger = select_query.get_text()\n",
    "    query_str = f\"{burger.replace('{EX}', EX).replace('{SAG}', SAG).replace('{AKTØR}', AKTØR)}\"\n",
    "    query_str = query_str.encode('utf-8')\n",
    "    query = prepareQuery(query_str, initNs={\"ex\": EX, \"sag\": SAG, \"aktør\": AKTØR})\n",
    "    result = g.query(query)\n",
    "\n",
    "    return result\n"
   ]
  },
  {
   "cell_type": "code",
   "execution_count": 74,
   "metadata": {},
   "outputs": [
    {
     "name": "stdout",
     "output_type": "stream",
     "text": [
      "Title is FIU alm. del\n",
      "Sag ID is http://XAINLP.com/sag/1\n",
      "Title is FIU alm. del\n",
      "Sag ID is http://XAINLP.com/sag/1\n",
      "Title is Forslag til Europa-Parlamentets og Rådets afgørelse om makrofinansiel bistand til Den Tunesiske Republik\n",
      "Sag ID is http://XAINLP.com/sag/4\n",
      "Title is Mener ministeren, at det er fair, at det offentlige på den ene side stiller krav til borgere og virksomheder om at skulle kunne kommunikere digitalt med det offentlige, når det offentlige ikke selv giver mulighed for digital kommunikation, som det er tilfældet med den manglende mulighed for digital aftaleindgåelse om NemID medarbejdersignatur for andre virksomheder end personligt ejede?\n",
      "Sag ID is http://XAINLP.com/sag/8\n"
     ]
    }
   ],
   "source": [
    "aktør_ids = [1,2,3]\n",
    "count = 0\n",
    "for row in get_sag_titel_from_aktør_ids(g, aktør_ids):\n",
    "    count += 1\n",
    "    if count <5:\n",
    "        print(f\"Title is {row[1]}\")\n",
    "        print(f\"Sag ID is {row[0]}\")\n"
   ]
  }
 ],
 "metadata": {
  "kernelspec": {
   "display_name": "deep",
   "language": "python",
   "name": "python3"
  },
  "language_info": {
   "codemirror_mode": {
    "name": "ipython",
    "version": 3
   },
   "file_extension": ".py",
   "mimetype": "text/x-python",
   "name": "python",
   "nbconvert_exporter": "python",
   "pygments_lexer": "ipython3",
   "version": "3.9.16"
  },
  "orig_nbformat": 4,
  "vscode": {
   "interpreter": {
    "hash": "eb6f1310e4cbbe83899fa3e2dcaa83329108f92c90079e59df5f7ddb93fa3967"
   }
  }
 },
 "nbformat": 4,
 "nbformat_minor": 2
}
