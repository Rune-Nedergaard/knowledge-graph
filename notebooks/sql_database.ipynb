{
 "cells": [
  {
   "cell_type": "code",
   "execution_count": 66,
   "metadata": {},
   "outputs": [],
   "source": [
    "import pyodbc\n",
    "import pandas as pd\n",
    "import numpy as np\n",
    "\n",
    "#data folder\n",
    "data_folder = '../data/raw/'\n",
    "\n",
    "server = 'localhost\\\\SQLEXPRESS'\n",
    "database = 'ODA'\n",
    "conn = pyodbc.connect('DRIVER={SQL Server};SERVER=' + server + ';DATABASE=' + database + ';Trusted_Connection=yes;')\n"
   ]
  },
  {
   "cell_type": "code",
   "execution_count": 60,
   "metadata": {},
   "outputs": [
    {
     "name": "stderr",
     "output_type": "stream",
     "text": [
      "C:\\Users\\rune7\\AppData\\Local\\Temp\\ipykernel_17576\\755958759.py:4: UserWarning: pandas only supports SQLAlchemy connectable (engine/connection) or database string URI or sqlite3 DBAPI2 connection. Other DBAPI2 objects are not tested. Please consider using SQLAlchemy.\n",
      "  Aktør = pd.read_sql(query, conn)\n"
     ]
    }
   ],
   "source": [
    "query = 'SELECT * FROM dbo.Aktør'\n",
    "\n",
    "# load the data into a pandas DataFrame\n",
    "Aktør = pd.read_sql(query, conn)"
   ]
  },
  {
   "cell_type": "code",
   "execution_count": 61,
   "metadata": {},
   "outputs": [],
   "source": [
    "#make periodeid int if it is float, else remain NaN\n",
    "Aktør['periodeid'] = Aktør['periodeid'].astype('Int64')"
   ]
  },
  {
   "cell_type": "code",
   "execution_count": 67,
   "metadata": {},
   "outputs": [],
   "source": [
    "#save as a pickle\n",
    "Aktør.to_pickle(data_folder + 'Aktør.pkl')"
   ]
  },
  {
   "attachments": {},
   "cell_type": "markdown",
   "metadata": {},
   "source": [
    "### Saving all the raw data as pickles"
   ]
  },
  {
   "cell_type": "code",
   "execution_count": 69,
   "metadata": {},
   "outputs": [
    {
     "name": "stderr",
     "output_type": "stream",
     "text": [
      "C:\\Users\\rune7\\AppData\\Local\\Temp\\ipykernel_17576\\2448368832.py:3: UserWarning: pandas only supports SQLAlchemy connectable (engine/connection) or database string URI or sqlite3 DBAPI2 connection. Other DBAPI2 objects are not tested. Please consider using SQLAlchemy.\n",
      "  Afstemning = pd.read_sql(query, conn)\n"
     ]
    }
   ],
   "source": [
    "query = 'SELECT * FROM dbo.Afstemning'\n",
    "\n",
    "Afstemning = pd.read_sql(query, conn)\n",
    "Afstemning['sagstrinid'] = Afstemning['sagstrinid'].astype('Int64')\n",
    "Afstemning.to_pickle(data_folder + 'Afstemning.pkl')"
   ]
  },
  {
   "cell_type": "code",
   "execution_count": 72,
   "metadata": {},
   "outputs": [
    {
     "name": "stderr",
     "output_type": "stream",
     "text": [
      "C:\\Users\\rune7\\AppData\\Local\\Temp\\ipykernel_17576\\2832107606.py:3: UserWarning: pandas only supports SQLAlchemy connectable (engine/connection) or database string URI or sqlite3 DBAPI2 connection. Other DBAPI2 objects are not tested. Please consider using SQLAlchemy.\n",
      "  Afstemningstype = pd.read_sql(query, conn)\n"
     ]
    }
   ],
   "source": [
    "query = 'SELECT * FROM dbo.Afstemningstype'\n",
    "\n",
    "Afstemningstype = pd.read_sql(query, conn)\n",
    "Afstemningstype.to_pickle(data_folder + 'Afstemningstype.pkl')"
   ]
  },
  {
   "cell_type": "code",
   "execution_count": 74,
   "metadata": {},
   "outputs": [
    {
     "name": "stderr",
     "output_type": "stream",
     "text": [
      "C:\\Users\\rune7\\AppData\\Local\\Temp\\ipykernel_17576\\2573500789.py:2: UserWarning: pandas only supports SQLAlchemy connectable (engine/connection) or database string URI or sqlite3 DBAPI2 connection. Other DBAPI2 objects are not tested. Please consider using SQLAlchemy.\n",
      "  AktørAktør = pd.read_sql(query, conn)\n"
     ]
    }
   ],
   "source": [
    "query = 'SELECT * FROM dbo.AktørAktør'\n",
    "AktørAktør = pd.read_sql(query, conn)\n",
    "AktørAktør.to_pickle(data_folder + 'AktørAktør.pkl')"
   ]
  },
  {
   "cell_type": "code",
   "execution_count": 76,
   "metadata": {},
   "outputs": [
    {
     "name": "stderr",
     "output_type": "stream",
     "text": [
      "C:\\Users\\rune7\\AppData\\Local\\Temp\\ipykernel_17576\\1901956753.py:2: UserWarning: pandas only supports SQLAlchemy connectable (engine/connection) or database string URI or sqlite3 DBAPI2 connection. Other DBAPI2 objects are not tested. Please consider using SQLAlchemy.\n",
      "  AktørAktørRolle = pd.read_sql(query, conn)\n"
     ]
    }
   ],
   "source": [
    "query = 'SELECT * FROM dbo.AktørAktørRolle'\n",
    "AktørAktørRolle = pd.read_sql(query, conn)\n",
    "AktørAktørRolle.to_pickle(data_folder + 'AktørAktørRolle.pkl')"
   ]
  },
  {
   "cell_type": "code",
   "execution_count": 78,
   "metadata": {},
   "outputs": [
    {
     "name": "stderr",
     "output_type": "stream",
     "text": [
      "C:\\Users\\rune7\\AppData\\Local\\Temp\\ipykernel_17576\\2820353230.py:2: UserWarning: pandas only supports SQLAlchemy connectable (engine/connection) or database string URI or sqlite3 DBAPI2 connection. Other DBAPI2 objects are not tested. Please consider using SQLAlchemy.\n",
      "  Aktørtype = pd.read_sql(query, conn)\n"
     ]
    }
   ],
   "source": [
    "query = 'SELECT * FROM dbo.Aktørtype'\n",
    "Aktørtype = pd.read_sql(query, conn)\n",
    "Aktørtype.to_pickle(data_folder + 'Aktørtype.pkl')\n"
   ]
  },
  {
   "cell_type": "code",
   "execution_count": 80,
   "metadata": {},
   "outputs": [
    {
     "name": "stderr",
     "output_type": "stream",
     "text": [
      "C:\\Users\\rune7\\AppData\\Local\\Temp\\ipykernel_17576\\3105568338.py:2: UserWarning: pandas only supports SQLAlchemy connectable (engine/connection) or database string URI or sqlite3 DBAPI2 connection. Other DBAPI2 objects are not tested. Please consider using SQLAlchemy.\n",
      "  Dagsordenspunkt = pd.read_sql(query, conn)\n"
     ]
    }
   ],
   "source": [
    "query = 'SELECT * FROM dbo.Dagsordenspunkt'\n",
    "Dagsordenspunkt = pd.read_sql(query, conn)\n",
    "Dagsordenspunkt.to_pickle(data_folder + 'Dagsordenspunkt.pkl')\n"
   ]
  },
  {
   "cell_type": "code",
   "execution_count": 82,
   "metadata": {},
   "outputs": [
    {
     "name": "stderr",
     "output_type": "stream",
     "text": [
      "C:\\Users\\rune7\\AppData\\Local\\Temp\\ipykernel_17576\\1075271129.py:1: UserWarning: pandas only supports SQLAlchemy connectable (engine/connection) or database string URI or sqlite3 DBAPI2 connection. Other DBAPI2 objects are not tested. Please consider using SQLAlchemy.\n",
      "  DagsordenspunktDokument = pd.read_sql('SELECT * FROM dbo.DagsordenspunktDokument', conn)\n"
     ]
    }
   ],
   "source": [
    "DagsordenspunktDokument = pd.read_sql('SELECT * FROM dbo.DagsordenspunktDokument', conn)\n",
    "DagsordenspunktDokument.to_pickle(data_folder + 'DagsordenspunktDokument.pkl')"
   ]
  },
  {
   "cell_type": "code",
   "execution_count": 84,
   "metadata": {},
   "outputs": [
    {
     "name": "stderr",
     "output_type": "stream",
     "text": [
      "C:\\Users\\rune7\\AppData\\Local\\Temp\\ipykernel_17576\\1554552895.py:1: UserWarning: pandas only supports SQLAlchemy connectable (engine/connection) or database string URI or sqlite3 DBAPI2 connection. Other DBAPI2 objects are not tested. Please consider using SQLAlchemy.\n",
      "  DagsordenspunktSag = pd.read_sql('SELECT * FROM dbo.DagsordenspunktSag', conn)\n"
     ]
    }
   ],
   "source": [
    "DagsordenspunktSag = pd.read_sql('SELECT * FROM dbo.DagsordenspunktSag', conn)\n",
    "DagsordenspunktSag.to_pickle(data_folder + 'DagsordenspunktSag.pkl')"
   ]
  },
  {
   "cell_type": "code",
   "execution_count": 90,
   "metadata": {},
   "outputs": [
    {
     "name": "stderr",
     "output_type": "stream",
     "text": [
      "C:\\Users\\rune7\\AppData\\Local\\Temp\\ipykernel_17576\\4064392301.py:1: UserWarning: pandas only supports SQLAlchemy connectable (engine/connection) or database string URI or sqlite3 DBAPI2 connection. Other DBAPI2 objects are not tested. Please consider using SQLAlchemy.\n",
      "  Dokument = pd.read_sql('SELECT * FROM dbo.Dokument', conn)\n"
     ]
    }
   ],
   "source": [
    "Dokument = pd.read_sql('SELECT * FROM dbo.Dokument', conn)\n",
    "Dokument['spørgsmålsid'] = Dokument['spørgsmålsid'].astype('Int64')"
   ]
  },
  {
   "cell_type": "code",
   "execution_count": 99,
   "metadata": {},
   "outputs": [],
   "source": [
    "#show row where spørgsmålsordlyd is not an empty string\n",
    "Dokument.to_pickle(data_folder + 'Dokument.pkl')"
   ]
  },
  {
   "cell_type": "code",
   "execution_count": 101,
   "metadata": {},
   "outputs": [
    {
     "name": "stderr",
     "output_type": "stream",
     "text": [
      "C:\\Users\\rune7\\AppData\\Local\\Temp\\ipykernel_17576\\4044492155.py:1: UserWarning: pandas only supports SQLAlchemy connectable (engine/connection) or database string URI or sqlite3 DBAPI2 connection. Other DBAPI2 objects are not tested. Please consider using SQLAlchemy.\n",
      "  DokumentAktør = pd.read_sql('SELECT * FROM dbo.DokumentAktør', conn)\n"
     ]
    }
   ],
   "source": [
    "DokumentAktør = pd.read_sql('SELECT * FROM dbo.DokumentAktør', conn)\n",
    "DokumentAktør.to_pickle(data_folder + 'DokumentAktør.pkl')"
   ]
  },
  {
   "cell_type": "code",
   "execution_count": 103,
   "metadata": {},
   "outputs": [
    {
     "name": "stderr",
     "output_type": "stream",
     "text": [
      "C:\\Users\\rune7\\AppData\\Local\\Temp\\ipykernel_17576\\2684499265.py:1: UserWarning: pandas only supports SQLAlchemy connectable (engine/connection) or database string URI or sqlite3 DBAPI2 connection. Other DBAPI2 objects are not tested. Please consider using SQLAlchemy.\n",
      "  DokumentAktørRolle = pd.read_sql('SELECT * FROM dbo.DokumentAktørRolle', conn)\n"
     ]
    }
   ],
   "source": [
    "DokumentAktørRolle = pd.read_sql('SELECT * FROM dbo.DokumentAktørRolle', conn)\n",
    "DokumentAktørRolle.to_pickle(data_folder + 'DokumentAktørRolle.pkl')"
   ]
  },
  {
   "cell_type": "code",
   "execution_count": 105,
   "metadata": {},
   "outputs": [
    {
     "name": "stderr",
     "output_type": "stream",
     "text": [
      "C:\\Users\\rune7\\AppData\\Local\\Temp\\ipykernel_17576\\3333880008.py:1: UserWarning: pandas only supports SQLAlchemy connectable (engine/connection) or database string URI or sqlite3 DBAPI2 connection. Other DBAPI2 objects are not tested. Please consider using SQLAlchemy.\n",
      "  Dokumentkategori = pd.read_sql('SELECT * FROM dbo.Dokumentkategori', conn)\n"
     ]
    }
   ],
   "source": [
    "Dokumentkategori = pd.read_sql('SELECT * FROM dbo.Dokumentkategori', conn)\n",
    "Dokumentkategori.to_pickle(data_folder + 'Dokumentkategori.pkl')"
   ]
  },
  {
   "cell_type": "code",
   "execution_count": 107,
   "metadata": {},
   "outputs": [
    {
     "name": "stderr",
     "output_type": "stream",
     "text": [
      "C:\\Users\\rune7\\AppData\\Local\\Temp\\ipykernel_17576\\3004151097.py:1: UserWarning: pandas only supports SQLAlchemy connectable (engine/connection) or database string URI or sqlite3 DBAPI2 connection. Other DBAPI2 objects are not tested. Please consider using SQLAlchemy.\n",
      "  Dokumentstatus = pd.read_sql('SELECT * FROM dbo.Dokumentstatus', conn)\n"
     ]
    }
   ],
   "source": [
    "Dokumentstatus = pd.read_sql('SELECT * FROM dbo.Dokumentstatus', conn)\n",
    "Dokumentstatus.to_pickle(data_folder + 'Dokumentstatus.pkl')"
   ]
  },
  {
   "cell_type": "code",
   "execution_count": 110,
   "metadata": {},
   "outputs": [
    {
     "name": "stderr",
     "output_type": "stream",
     "text": [
      "C:\\Users\\rune7\\AppData\\Local\\Temp\\ipykernel_17576\\2981381975.py:1: UserWarning: pandas only supports SQLAlchemy connectable (engine/connection) or database string URI or sqlite3 DBAPI2 connection. Other DBAPI2 objects are not tested. Please consider using SQLAlchemy.\n",
      "  Dokumenttype = pd.read_sql('SELECT * FROM dbo.Dokumenttype', conn)\n"
     ]
    }
   ],
   "source": [
    "Dokumenttype = pd.read_sql('SELECT * FROM dbo.Dokumenttype', conn)\n",
    "Dokumenttype.to_pickle(data_folder + 'Dokumenttype.pkl')"
   ]
  },
  {
   "cell_type": "code",
   "execution_count": 112,
   "metadata": {},
   "outputs": [
    {
     "name": "stderr",
     "output_type": "stream",
     "text": [
      "C:\\Users\\rune7\\AppData\\Local\\Temp\\ipykernel_17576\\2778743855.py:1: UserWarning: pandas only supports SQLAlchemy connectable (engine/connection) or database string URI or sqlite3 DBAPI2 connection. Other DBAPI2 objects are not tested. Please consider using SQLAlchemy.\n",
      "  Emneord = pd.read_sql('SELECT * FROM dbo.Emneord', conn)\n"
     ]
    }
   ],
   "source": [
    "Emneord = pd.read_sql('SELECT * FROM dbo.Emneord', conn)\n",
    "Emneord.to_pickle(data_folder + 'Emneord.pkl')"
   ]
  },
  {
   "cell_type": "code",
   "execution_count": 114,
   "metadata": {},
   "outputs": [
    {
     "name": "stderr",
     "output_type": "stream",
     "text": [
      "C:\\Users\\rune7\\AppData\\Local\\Temp\\ipykernel_17576\\3355936149.py:1: UserWarning: pandas only supports SQLAlchemy connectable (engine/connection) or database string URI or sqlite3 DBAPI2 connection. Other DBAPI2 objects are not tested. Please consider using SQLAlchemy.\n",
      "  EmneordDokument = pd.read_sql('SELECT * FROM dbo.EmneordDokument', conn)\n"
     ]
    }
   ],
   "source": [
    "EmneordDokument = pd.read_sql('SELECT * FROM dbo.EmneordDokument', conn)\n",
    "EmneordDokument.to_pickle(data_folder + 'EmneordDokument.pkl')"
   ]
  },
  {
   "cell_type": "code",
   "execution_count": 116,
   "metadata": {},
   "outputs": [
    {
     "name": "stderr",
     "output_type": "stream",
     "text": [
      "C:\\Users\\rune7\\AppData\\Local\\Temp\\ipykernel_17576\\3254967918.py:1: UserWarning: pandas only supports SQLAlchemy connectable (engine/connection) or database string URI or sqlite3 DBAPI2 connection. Other DBAPI2 objects are not tested. Please consider using SQLAlchemy.\n",
      "  EmneordSag = pd.read_sql('SELECT * FROM dbo.EmneordSag', conn)\n"
     ]
    }
   ],
   "source": [
    "EmneordSag = pd.read_sql('SELECT * FROM dbo.EmneordSag', conn)\n",
    "EmneordSag.to_pickle(data_folder + 'EmneordSag.pkl')"
   ]
  },
  {
   "cell_type": "code",
   "execution_count": 118,
   "metadata": {},
   "outputs": [
    {
     "name": "stderr",
     "output_type": "stream",
     "text": [
      "C:\\Users\\rune7\\AppData\\Local\\Temp\\ipykernel_17576\\3089232074.py:1: UserWarning: pandas only supports SQLAlchemy connectable (engine/connection) or database string URI or sqlite3 DBAPI2 connection. Other DBAPI2 objects are not tested. Please consider using SQLAlchemy.\n",
      "  Emneordstype = pd.read_sql('SELECT * FROM dbo.Emneordstype', conn)\n"
     ]
    }
   ],
   "source": [
    "Emneordstype = pd.read_sql('SELECT * FROM dbo.Emneordstype', conn)\n",
    "Emneordstype.to_pickle(data_folder + 'Emneordstype.pkl')"
   ]
  },
  {
   "cell_type": "code",
   "execution_count": 121,
   "metadata": {},
   "outputs": [
    {
     "name": "stderr",
     "output_type": "stream",
     "text": [
      "C:\\Users\\rune7\\AppData\\Local\\Temp\\ipykernel_17576\\2091297237.py:1: UserWarning: pandas only supports SQLAlchemy connectable (engine/connection) or database string URI or sqlite3 DBAPI2 connection. Other DBAPI2 objects are not tested. Please consider using SQLAlchemy.\n",
      "  EntitetBeskrivelse = pd.read_sql('SELECT * FROM dbo.EntitetBeskrivelse', conn)\n"
     ]
    }
   ],
   "source": [
    "EntitetBeskrivelse = pd.read_sql('SELECT * FROM dbo.EntitetBeskrivelse', conn)\n",
    "EntitetBeskrivelse.to_pickle(data_folder + 'EntitetBeskrivelse.pkl')"
   ]
  },
  {
   "cell_type": "code",
   "execution_count": 132,
   "metadata": {},
   "outputs": [
    {
     "name": "stderr",
     "output_type": "stream",
     "text": [
      "C:\\Users\\rune7\\AppData\\Local\\Temp\\ipykernel_17576\\992669995.py:1: UserWarning: pandas only supports SQLAlchemy connectable (engine/connection) or database string URI or sqlite3 DBAPI2 connection. Other DBAPI2 objects are not tested. Please consider using SQLAlchemy.\n",
      "  Fil = pd.read_sql('SELECT * FROM dbo.Fil', conn)\n"
     ]
    }
   ],
   "source": [
    "Fil = pd.read_sql('SELECT * FROM dbo.Fil', conn)\n",
    "Fil.to_pickle(data_folder + 'Fil.pkl')\n"
   ]
  },
  {
   "cell_type": "code",
   "execution_count": 134,
   "metadata": {},
   "outputs": [
    {
     "name": "stderr",
     "output_type": "stream",
     "text": [
      "C:\\Users\\rune7\\AppData\\Local\\Temp\\ipykernel_17576\\3569118925.py:1: UserWarning: pandas only supports SQLAlchemy connectable (engine/connection) or database string URI or sqlite3 DBAPI2 connection. Other DBAPI2 objects are not tested. Please consider using SQLAlchemy.\n",
      "  IdMap = pd.read_sql('SELECT * FROM dbo.IdMap', conn)\n"
     ]
    }
   ],
   "source": [
    "IdMap = pd.read_sql('SELECT * FROM dbo.IdMap', conn)\n",
    "IdMap.to_pickle(data_folder + 'IdMap.pkl')"
   ]
  },
  {
   "cell_type": "code",
   "execution_count": 141,
   "metadata": {},
   "outputs": [
    {
     "name": "stderr",
     "output_type": "stream",
     "text": [
      "C:\\Users\\rune7\\AppData\\Local\\Temp\\ipykernel_17576\\3818807483.py:1: UserWarning: pandas only supports SQLAlchemy connectable (engine/connection) or database string URI or sqlite3 DBAPI2 connection. Other DBAPI2 objects are not tested. Please consider using SQLAlchemy.\n",
      "  KolloneBeskrivelse = pd.read_sql('SELECT * FROM dbo.KolloneBeskrivelse', conn)\n"
     ]
    }
   ],
   "source": [
    "KolloneBeskrivelse = pd.read_sql('SELECT * FROM dbo.KolloneBeskrivelse', conn)\n",
    "KolloneBeskrivelse.to_pickle(data_folder + 'KolloneBeskrivelse.pkl')"
   ]
  },
  {
   "cell_type": "code",
   "execution_count": 143,
   "metadata": {},
   "outputs": [
    {
     "name": "stderr",
     "output_type": "stream",
     "text": [
      "C:\\Users\\rune7\\AppData\\Local\\Temp\\ipykernel_17576\\1844427092.py:1: UserWarning: pandas only supports SQLAlchemy connectable (engine/connection) or database string URI or sqlite3 DBAPI2 connection. Other DBAPI2 objects are not tested. Please consider using SQLAlchemy.\n",
      "  Møde = pd.read_sql('SELECT * FROM dbo.Møde', conn)\n"
     ]
    }
   ],
   "source": [
    "Møde = pd.read_sql('SELECT * FROM dbo.Møde', conn)\n",
    "Møde.to_pickle(data_folder + 'Møde.pkl')"
   ]
  },
  {
   "cell_type": "code",
   "execution_count": 146,
   "metadata": {},
   "outputs": [
    {
     "name": "stderr",
     "output_type": "stream",
     "text": [
      "C:\\Users\\rune7\\AppData\\Local\\Temp\\ipykernel_17576\\2792584740.py:1: UserWarning: pandas only supports SQLAlchemy connectable (engine/connection) or database string URI or sqlite3 DBAPI2 connection. Other DBAPI2 objects are not tested. Please consider using SQLAlchemy.\n",
      "  MødeAktør = pd.read_sql('SELECT * FROM dbo.MødeAktør', conn)\n"
     ]
    }
   ],
   "source": [
    "MødeAktør = pd.read_sql('SELECT * FROM dbo.MødeAktør', conn)\n",
    "MødeAktør.to_pickle(data_folder + 'MødeAktør.pkl')"
   ]
  },
  {
   "cell_type": "code",
   "execution_count": 148,
   "metadata": {},
   "outputs": [
    {
     "name": "stderr",
     "output_type": "stream",
     "text": [
      "C:\\Users\\rune7\\AppData\\Local\\Temp\\ipykernel_17576\\2801029962.py:1: UserWarning: pandas only supports SQLAlchemy connectable (engine/connection) or database string URI or sqlite3 DBAPI2 connection. Other DBAPI2 objects are not tested. Please consider using SQLAlchemy.\n",
      "  Mødestatus = pd.read_sql('SELECT * FROM dbo.Mødestatus', conn)\n"
     ]
    }
   ],
   "source": [
    "Mødestatus = pd.read_sql('SELECT * FROM dbo.Mødestatus', conn)\n",
    "Mødestatus.to_pickle(data_folder + 'Mødestatus.pkl')"
   ]
  },
  {
   "cell_type": "code",
   "execution_count": 150,
   "metadata": {},
   "outputs": [
    {
     "name": "stderr",
     "output_type": "stream",
     "text": [
      "C:\\Users\\rune7\\AppData\\Local\\Temp\\ipykernel_17576\\2834647701.py:1: UserWarning: pandas only supports SQLAlchemy connectable (engine/connection) or database string URI or sqlite3 DBAPI2 connection. Other DBAPI2 objects are not tested. Please consider using SQLAlchemy.\n",
      "  Mødetype = pd.read_sql('SELECT * FROM dbo.Mødetype', conn)\n"
     ]
    }
   ],
   "source": [
    "Mødetype = pd.read_sql('SELECT * FROM dbo.Mødetype', conn)\n",
    "Mødetype.to_pickle(data_folder + 'Mødetype.pkl')"
   ]
  },
  {
   "cell_type": "code",
   "execution_count": 152,
   "metadata": {},
   "outputs": [
    {
     "name": "stderr",
     "output_type": "stream",
     "text": [
      "C:\\Users\\rune7\\AppData\\Local\\Temp\\ipykernel_17576\\2310715241.py:1: UserWarning: pandas only supports SQLAlchemy connectable (engine/connection) or database string URI or sqlite3 DBAPI2 connection. Other DBAPI2 objects are not tested. Please consider using SQLAlchemy.\n",
      "  Omtryk = pd.read_sql('SELECT * FROM dbo.Omtryk', conn)\n"
     ]
    }
   ],
   "source": [
    "Omtryk = pd.read_sql('SELECT * FROM dbo.Omtryk', conn)\n",
    "Omtryk.to_pickle(data_folder + 'Omtryk.pkl')"
   ]
  },
  {
   "cell_type": "code",
   "execution_count": 154,
   "metadata": {},
   "outputs": [
    {
     "name": "stderr",
     "output_type": "stream",
     "text": [
      "C:\\Users\\rune7\\AppData\\Local\\Temp\\ipykernel_17576\\2782570724.py:1: UserWarning: pandas only supports SQLAlchemy connectable (engine/connection) or database string URI or sqlite3 DBAPI2 connection. Other DBAPI2 objects are not tested. Please consider using SQLAlchemy.\n",
      "  Periode = pd.read_sql('SELECT * FROM dbo.Periode', conn)\n"
     ]
    }
   ],
   "source": [
    "Periode = pd.read_sql('SELECT * FROM dbo.Periode', conn)\n",
    "Periode.to_pickle(data_folder + 'Periode.pkl')"
   ]
  },
  {
   "cell_type": "code",
   "execution_count": 156,
   "metadata": {},
   "outputs": [
    {
     "name": "stderr",
     "output_type": "stream",
     "text": [
      "C:\\Users\\rune7\\AppData\\Local\\Temp\\ipykernel_17576\\9866351.py:1: UserWarning: pandas only supports SQLAlchemy connectable (engine/connection) or database string URI or sqlite3 DBAPI2 connection. Other DBAPI2 objects are not tested. Please consider using SQLAlchemy.\n",
      "  Sag = pd.read_sql('SELECT * FROM dbo.Sag', conn)\n"
     ]
    }
   ],
   "source": [
    "Sag = pd.read_sql('SELECT * FROM dbo.Sag', conn)\n"
   ]
  },
  {
   "cell_type": "code",
   "execution_count": 178,
   "metadata": {},
   "outputs": [],
   "source": [
    "#convert the columns paragrafnummer, fremsatundersagid and deltundersagid to Int64\n",
    "Sag['paragrafnummer'] = Sag['paragrafnummer'].astype('Int64')\n",
    "Sag['fremsatundersagid'] = Sag['fremsatundersagid'].astype('Int64')\n",
    "Sag['deltundersagid'] = Sag['deltundersagid'].astype('Int64')\n",
    "Sag['kategoriid'] = Sag['kategoriid'].astype('Int64')\n"
   ]
  },
  {
   "cell_type": "code",
   "execution_count": 193,
   "metadata": {},
   "outputs": [],
   "source": [
    "Sag.to_pickle(data_folder + 'Sag.pkl')"
   ]
  },
  {
   "cell_type": "code",
   "execution_count": 195,
   "metadata": {},
   "outputs": [
    {
     "name": "stderr",
     "output_type": "stream",
     "text": [
      "C:\\Users\\rune7\\AppData\\Local\\Temp\\ipykernel_17576\\535769749.py:1: UserWarning: pandas only supports SQLAlchemy connectable (engine/connection) or database string URI or sqlite3 DBAPI2 connection. Other DBAPI2 objects are not tested. Please consider using SQLAlchemy.\n",
      "  SagAktør = pd.read_sql('SELECT * FROM dbo.SagAktør', conn)\n"
     ]
    }
   ],
   "source": [
    "SagAktør = pd.read_sql('SELECT * FROM dbo.SagAktør', conn)\n",
    "SagAktør.to_pickle(data_folder + 'SagAktør.pkl')"
   ]
  },
  {
   "cell_type": "code",
   "execution_count": 197,
   "metadata": {},
   "outputs": [
    {
     "name": "stderr",
     "output_type": "stream",
     "text": [
      "C:\\Users\\rune7\\AppData\\Local\\Temp\\ipykernel_17576\\1476547456.py:1: UserWarning: pandas only supports SQLAlchemy connectable (engine/connection) or database string URI or sqlite3 DBAPI2 connection. Other DBAPI2 objects are not tested. Please consider using SQLAlchemy.\n",
      "  SagAktørRolle = pd.read_sql('SELECT * FROM dbo.SagAktørRolle', conn)\n"
     ]
    }
   ],
   "source": [
    "SagAktørRolle = pd.read_sql('SELECT * FROM dbo.SagAktørRolle', conn)\n",
    "SagAktørRolle.to_pickle(data_folder + 'SagAktørRolle.pkl')"
   ]
  },
  {
   "cell_type": "code",
   "execution_count": 199,
   "metadata": {},
   "outputs": [
    {
     "name": "stderr",
     "output_type": "stream",
     "text": [
      "C:\\Users\\rune7\\AppData\\Local\\Temp\\ipykernel_17576\\3491044649.py:1: UserWarning: pandas only supports SQLAlchemy connectable (engine/connection) or database string URI or sqlite3 DBAPI2 connection. Other DBAPI2 objects are not tested. Please consider using SQLAlchemy.\n",
      "  SagDokument = pd.read_sql('SELECT * FROM dbo.SagDokument', conn)\n"
     ]
    }
   ],
   "source": [
    "SagDokument = pd.read_sql('SELECT * FROM dbo.SagDokument', conn)\n",
    "SagDokument.to_pickle(data_folder + 'SagDokument.pkl')"
   ]
  },
  {
   "cell_type": "code",
   "execution_count": 201,
   "metadata": {},
   "outputs": [
    {
     "name": "stderr",
     "output_type": "stream",
     "text": [
      "C:\\Users\\rune7\\AppData\\Local\\Temp\\ipykernel_17576\\952067663.py:1: UserWarning: pandas only supports SQLAlchemy connectable (engine/connection) or database string URI or sqlite3 DBAPI2 connection. Other DBAPI2 objects are not tested. Please consider using SQLAlchemy.\n",
      "  SagDokumentRolle = pd.read_sql('SELECT * FROM dbo.SagDokumentRolle', conn)\n"
     ]
    }
   ],
   "source": [
    "SagDokumentRolle = pd.read_sql('SELECT * FROM dbo.SagDokumentRolle', conn)\n",
    "SagDokumentRolle.to_pickle(data_folder + 'SagDokumentRolle.pkl')"
   ]
  },
  {
   "cell_type": "code",
   "execution_count": 203,
   "metadata": {},
   "outputs": [
    {
     "name": "stderr",
     "output_type": "stream",
     "text": [
      "C:\\Users\\rune7\\AppData\\Local\\Temp\\ipykernel_17576\\3562083793.py:1: UserWarning: pandas only supports SQLAlchemy connectable (engine/connection) or database string URI or sqlite3 DBAPI2 connection. Other DBAPI2 objects are not tested. Please consider using SQLAlchemy.\n",
      "  Sagskategori = pd.read_sql('SELECT * FROM dbo.Sagskategori', conn)\n"
     ]
    }
   ],
   "source": [
    "Sagskategori = pd.read_sql('SELECT * FROM dbo.Sagskategori', conn)\n",
    "Sagskategori.to_pickle(data_folder + 'Sagskategori.pkl')"
   ]
  },
  {
   "cell_type": "code",
   "execution_count": 205,
   "metadata": {},
   "outputs": [
    {
     "name": "stderr",
     "output_type": "stream",
     "text": [
      "C:\\Users\\rune7\\AppData\\Local\\Temp\\ipykernel_17576\\3688563273.py:1: UserWarning: pandas only supports SQLAlchemy connectable (engine/connection) or database string URI or sqlite3 DBAPI2 connection. Other DBAPI2 objects are not tested. Please consider using SQLAlchemy.\n",
      "  Sagsstatus = pd.read_sql('SELECT * FROM dbo.Sagsstatus', conn)\n"
     ]
    }
   ],
   "source": [
    "Sagsstatus = pd.read_sql('SELECT * FROM dbo.Sagsstatus', conn)\n",
    "Sagsstatus.to_pickle(data_folder + 'Sagsstatus.pkl')"
   ]
  },
  {
   "cell_type": "code",
   "execution_count": 208,
   "metadata": {},
   "outputs": [
    {
     "name": "stderr",
     "output_type": "stream",
     "text": [
      "C:\\Users\\rune7\\AppData\\Local\\Temp\\ipykernel_17576\\871007989.py:1: UserWarning: pandas only supports SQLAlchemy connectable (engine/connection) or database string URI or sqlite3 DBAPI2 connection. Other DBAPI2 objects are not tested. Please consider using SQLAlchemy.\n",
      "  Sagstrinstype = pd.read_sql('SELECT * FROM dbo.Sagstrinstype', conn)\n"
     ]
    }
   ],
   "source": [
    "Sagstrinstype = pd.read_sql('SELECT * FROM dbo.Sagstrinstype', conn)\n",
    "Sagstrinstype.to_pickle(data_folder + 'Sagstrinstype.pkl')"
   ]
  },
  {
   "cell_type": "code",
   "execution_count": 210,
   "metadata": {},
   "outputs": [
    {
     "name": "stderr",
     "output_type": "stream",
     "text": [
      "C:\\Users\\rune7\\AppData\\Local\\Temp\\ipykernel_17576\\2411568466.py:1: UserWarning: pandas only supports SQLAlchemy connectable (engine/connection) or database string URI or sqlite3 DBAPI2 connection. Other DBAPI2 objects are not tested. Please consider using SQLAlchemy.\n",
      "  Sagstype = pd.read_sql('SELECT * FROM dbo.Sagstype', conn)\n"
     ]
    }
   ],
   "source": [
    "Sagstype = pd.read_sql('SELECT * FROM dbo.Sagstype', conn)\n",
    "Sagstype.to_pickle(data_folder + 'Sagstype.pkl')"
   ]
  },
  {
   "cell_type": "code",
   "execution_count": 213,
   "metadata": {},
   "outputs": [
    {
     "name": "stderr",
     "output_type": "stream",
     "text": [
      "C:\\Users\\rune7\\AppData\\Local\\Temp\\ipykernel_17576\\2738490178.py:1: UserWarning: pandas only supports SQLAlchemy connectable (engine/connection) or database string URI or sqlite3 DBAPI2 connection. Other DBAPI2 objects are not tested. Please consider using SQLAlchemy.\n",
      "  Sambehandlinger = pd.read_sql('SELECT * FROM dbo.Sambehandlinger', conn)\n"
     ]
    }
   ],
   "source": [
    "Sambehandlinger = pd.read_sql('SELECT * FROM dbo.Sambehandlinger', conn)\n",
    "Sambehandlinger.to_pickle(data_folder + 'Sambehandlinger.pkl')"
   ]
  },
  {
   "cell_type": "code",
   "execution_count": 215,
   "metadata": {},
   "outputs": [
    {
     "name": "stderr",
     "output_type": "stream",
     "text": [
      "C:\\Users\\rune7\\AppData\\Local\\Temp\\ipykernel_17576\\1868068057.py:1: UserWarning: pandas only supports SQLAlchemy connectable (engine/connection) or database string URI or sqlite3 DBAPI2 connection. Other DBAPI2 objects are not tested. Please consider using SQLAlchemy.\n",
      "  Slettet = pd.read_sql('SELECT * FROM dbo.Slettet', conn)\n"
     ]
    }
   ],
   "source": [
    "Slettet = pd.read_sql('SELECT * FROM dbo.Slettet', conn)\n",
    "Slettet.to_pickle(data_folder + 'Slettet.pkl')"
   ]
  },
  {
   "cell_type": "code",
   "execution_count": 217,
   "metadata": {},
   "outputs": [
    {
     "name": "stderr",
     "output_type": "stream",
     "text": [
      "C:\\Users\\rune7\\AppData\\Local\\Temp\\ipykernel_17576\\1862064679.py:1: UserWarning: pandas only supports SQLAlchemy connectable (engine/connection) or database string URI or sqlite3 DBAPI2 connection. Other DBAPI2 objects are not tested. Please consider using SQLAlchemy.\n",
      "  SlettetMap = pd.read_sql('SELECT * FROM dbo.SlettetMap', conn)\n"
     ]
    }
   ],
   "source": [
    "SlettetMap = pd.read_sql('SELECT * FROM dbo.SlettetMap', conn)\n",
    "SlettetMap.to_pickle(data_folder + 'SlettetMap.pkl')"
   ]
  },
  {
   "cell_type": "code",
   "execution_count": 219,
   "metadata": {},
   "outputs": [
    {
     "name": "stderr",
     "output_type": "stream",
     "text": [
      "C:\\Users\\rune7\\AppData\\Local\\Temp\\ipykernel_17576\\1351488086.py:1: UserWarning: pandas only supports SQLAlchemy connectable (engine/connection) or database string URI or sqlite3 DBAPI2 connection. Other DBAPI2 objects are not tested. Please consider using SQLAlchemy.\n",
      "  Stemme = pd.read_sql('SELECT * FROM dbo.Stemme', conn)\n"
     ]
    }
   ],
   "source": [
    "Stemme = pd.read_sql('SELECT * FROM dbo.Stemme', conn)\n",
    "Stemme.to_pickle(data_folder + 'Stemme.pkl')"
   ]
  },
  {
   "cell_type": "code",
   "execution_count": 222,
   "metadata": {},
   "outputs": [
    {
     "name": "stderr",
     "output_type": "stream",
     "text": [
      "C:\\Users\\rune7\\AppData\\Local\\Temp\\ipykernel_17576\\2632114494.py:1: UserWarning: pandas only supports SQLAlchemy connectable (engine/connection) or database string URI or sqlite3 DBAPI2 connection. Other DBAPI2 objects are not tested. Please consider using SQLAlchemy.\n",
      "  Stemmetype = pd.read_sql('SELECT * FROM dbo.Stemmetype', conn)\n"
     ]
    }
   ],
   "source": [
    "Stemmetype = pd.read_sql('SELECT * FROM dbo.Stemmetype', conn)\n",
    "Stemmetype.to_pickle(data_folder + 'Stemmetype.pkl')"
   ]
  },
  {
   "cell_type": "code",
   "execution_count": 224,
   "metadata": {},
   "outputs": [
    {
     "name": "stderr",
     "output_type": "stream",
     "text": [
      "C:\\Users\\rune7\\AppData\\Local\\Temp\\ipykernel_17576\\1559705371.py:1: UserWarning: pandas only supports SQLAlchemy connectable (engine/connection) or database string URI or sqlite3 DBAPI2 connection. Other DBAPI2 objects are not tested. Please consider using SQLAlchemy.\n",
      "  SyncLogger = pd.read_sql('SELECT * FROM dbo.SyncLogger', conn)\n"
     ]
    }
   ],
   "source": [
    "SyncLogger = pd.read_sql('SELECT * FROM dbo.SyncLogger', conn)\n",
    "SyncLogger.to_pickle(data_folder + 'SyncLogger.pkl')"
   ]
  }
 ],
 "metadata": {
  "kernelspec": {
   "display_name": "deep",
   "language": "python",
   "name": "python3"
  },
  "language_info": {
   "codemirror_mode": {
    "name": "ipython",
    "version": 3
   },
   "file_extension": ".py",
   "mimetype": "text/x-python",
   "name": "python",
   "nbconvert_exporter": "python",
   "pygments_lexer": "ipython3",
   "version": "3.9.16"
  },
  "orig_nbformat": 4,
  "vscode": {
   "interpreter": {
    "hash": "eb6f1310e4cbbe83899fa3e2dcaa83329108f92c90079e59df5f7ddb93fa3967"
   }
  }
 },
 "nbformat": 4,
 "nbformat_minor": 2
}
