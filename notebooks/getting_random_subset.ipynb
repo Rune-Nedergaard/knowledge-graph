{
 "cells": [
  {
   "cell_type": "code",
   "execution_count": null,
   "metadata": {},
   "outputs": [],
   "source": [
    "import pandas as pd\n",
    "from bs4 import BeautifulSoup\n",
    "import requests\n",
    "import regex as re\n",
    "\n",
    "Fil = pd.read_pickle('../data/raw/Fil.pkl')\n",
    "Dokument = pd.read_pickle('../data/raw/Dokument.pkl')\n",
    "Sag = pd.read_pickle('../data/raw/Sag.pkl')\n",
    "SagDokument = pd.read_pickle('../data/raw/SagDokument.pkl')"
   ]
  },
  {
   "attachments": {},
   "cell_type": "markdown",
   "metadata": {},
   "source": [
    "This notebook identifies the Files that are not relevant for the model\n",
    "These are files that are duplicates in some way. Either by :\n",
    "1. Being the question for which the answer file contains the question\n",
    "2. Being an intermediate file, where a final answer exists\n",
    "3. Being an EU file, where a subsequent national file exists\n",
    "\n",
    "The notebook then extracts a random subset in order to fine tuen a BERT emebedding model"
   ]
  },
  {
   "cell_type": "code",
   "execution_count": null,
   "metadata": {},
   "outputs": [],
   "source": [
    "Dokument['kategoriid'].value_counts()[0:20]\n",
    "#man kan nok godt fjerne udvalgsspørsmål (36), samrådsspørgsmål (37),  foreløbigt svar (30) og  §20 spørgsmål (14)\n",
    "#det sparer 245123 +23212+ 53136 + 15763 = 335834 = ca. 40% af dokumenterne\n",
    "#man kan også fjerne alle dokumenter relateret til sager med typeid 7, da disse er EU sager"
   ]
  },
  {
   "cell_type": "code",
   "execution_count": null,
   "metadata": {},
   "outputs": [],
   "source": [
    "len(Dokument)"
   ]
  },
  {
   "cell_type": "code",
   "execution_count": null,
   "metadata": {},
   "outputs": [],
   "source": [
    "unwanted_categories = [36,37,30,14]"
   ]
  },
  {
   "cell_type": "code",
   "execution_count": null,
   "metadata": {},
   "outputs": [],
   "source": [
    "Not_EU_Sag = Sag[Sag['typeid'] != 7]\n",
    "Dokument_ids = SagDokument[SagDokument['sagid'].isin(Not_EU_Sag['id'])]['dokumentid'].unique()\n",
    "len(Dokument_ids)"
   ]
  },
  {
   "cell_type": "code",
   "execution_count": null,
   "metadata": {},
   "outputs": [],
   "source": [
    "Filtered_dok = Dokument[~Dokument['kategoriid'].isin(unwanted_categories)]\n",
    "len(Filtered_dok)"
   ]
  },
  {
   "cell_type": "code",
   "execution_count": null,
   "metadata": {},
   "outputs": [],
   "source": [
    "Filtered_dok = Filtered_dok[Filtered_dok['id'].isin(Dokument_ids)]\n",
    "len(Filtered_dok)"
   ]
  },
  {
   "cell_type": "code",
   "execution_count": null,
   "metadata": {},
   "outputs": [],
   "source": [
    "Filtered_fil = Fil[Fil['dokumentid'].isin(Filtered_dok['id'])]\n",
    "len(Filtered_fil)"
   ]
  },
  {
   "cell_type": "code",
   "execution_count": null,
   "metadata": {},
   "outputs": [],
   "source": [
    "#pickle the filtered dataframes\n",
    "Filtered_dok.to_pickle('../data/raw/Filtered_dok.pkl')\n",
    "Filtered_fil.to_pickle('../data/raw/Filtered_fil.pkl')"
   ]
  },
  {
   "cell_type": "code",
   "execution_count": null,
   "metadata": {},
   "outputs": [],
   "source": [
    "#taking dokument have a spørgsmålsid that is not none and a kategoriid == 22\n",
    "question_doks = Filtered_dok[~Filtered_dok['spørgsmålsid'].isna() & (Filtered_dok['kategoriid'] == 22)]['titel'].tolist()\n",
    "question_ids = Filtered_dok[~Filtered_dok['spørgsmålsid'].isna() & (Filtered_dok['kategoriid'] == 22)]['id'].tolist()"
   ]
  },
  {
   "cell_type": "code",
   "execution_count": null,
   "metadata": {},
   "outputs": [],
   "source": [
    "filtered_questions = []\n",
    "import re \n",
    "pattern = r'^((Svar på spm\\. nr\\. S \\d+:)|(\\w+ - svar på spm\\. \\d+)|Svar på KOM \\(\\d+\\) \\d+ spm\\. \\d+,?\\s+om\\s+|(Aktstk\\.? \\d+ - svar på spm\\. \\d+)|([A-Z]{3} \\(\\d+\\) \\d+ - svar på spm\\. \\d+)|(svar på spm\\. nr\\. S \\d+:)|(L \\d+ - svar på spm\\. \\d+)|(Svar på spm\\.nr\\. S \\d+:)|([A-Z]{3} alm\\. del - svar på spm\\. \\d+)|(UUI alm\\. del - svar på spm\\. \\d+)|(Svar på spm\\. nr\\. \\d+:)|([A-Z]{3} alm\\. del - svar på spm\\. \\d+)|(URU alm\\. del - svar på spm\\. \\d+)|(B \\d+ - svar på spm\\. \\d+)|(KEB alm\\. del - svar på MFU spm\\. \\d+)|(TRU alm\\. del - svar på spm\\. \\d+))'\n",
    "\n",
    "for question in question_doks:\n",
    "    filtered_question = re.sub(pattern, '', question)\n",
    "    filtered_questions.append(filtered_question)\n",
    "\n"
   ]
  },
  {
   "cell_type": "code",
   "execution_count": null,
   "metadata": {},
   "outputs": [],
   "source": [
    "zip_iterator = zip(question_ids, filtered_questions)\n",
    "question_dict = dict(zip_iterator)"
   ]
  },
  {
   "cell_type": "code",
   "execution_count": null,
   "metadata": {},
   "outputs": [],
   "source": [
    "import random\n",
    "random.seed(42)\n",
    "random_subset = random.sample(list(question_dict.items()), 10000)"
   ]
  },
  {
   "cell_type": "code",
   "execution_count": null,
   "metadata": {},
   "outputs": [],
   "source": [
    "random_subset\n",
    "import pickle\n",
    "with open('../data/raw/random_subset.pkl', 'wb') as f:\n",
    "    pickle.dump(random_subset, f)"
   ]
  },
  {
   "cell_type": "code",
   "execution_count": null,
   "metadata": {},
   "outputs": [],
   "source": []
  }
 ],
 "metadata": {
  "language_info": {
   "name": "python"
  },
  "orig_nbformat": 4
 },
 "nbformat": 4,
 "nbformat_minor": 2
}
