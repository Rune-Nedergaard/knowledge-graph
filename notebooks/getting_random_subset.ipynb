{
 "cells": [
  {
   "cell_type": "code",
   "execution_count": 2,
   "metadata": {},
   "outputs": [],
   "source": [
    "import pandas as pd\n",
    "from bs4 import BeautifulSoup\n",
    "import requests\n",
    "import regex as re\n",
    "\n",
    "Fil = pd.read_pickle('../data/raw/Fil.pkl')\n",
    "Dokument = pd.read_pickle('../data/raw/Dokument.pkl')\n",
    "Sag = pd.read_pickle('../data/raw/Sag.pkl')\n",
    "SagDokument = pd.read_pickle('../data/raw/SagDokument.pkl')"
   ]
  },
  {
   "attachments": {},
   "cell_type": "markdown",
   "metadata": {},
   "source": [
    "This notebook identifies the Files that are not relevant for the model\n",
    "These are files that are duplicates in some way. Either by :\n",
    "1. Being the question for which the answer file contains the question\n",
    "2. Being an intermediate file, where a final answer exists\n",
    "3. Being an EU file, where a subsequent national file exists\n",
    "\n",
    "The notebook then extracts a random subset in order to fine tuen a BERT emebedding model"
   ]
  },
  {
   "cell_type": "code",
   "execution_count": 2,
   "metadata": {},
   "outputs": [
    {
     "name": "stderr",
     "output_type": "stream",
     "text": [
      "C:\\Users\\rune7\\AppData\\Local\\Temp\\ipykernel_20508\\3150753189.py:1: FutureWarning: The behavior of `series[i:j]` with an integer-dtype index is deprecated. In a future version, this will be treated as *label-based* indexing, consistent with e.g. `series[i]` lookups. To retain the old behavior, use `series.iloc[i:j]`. To get the future behavior, use `series.loc[i:j]`.\n",
      "  Dokument['kategoriid'].value_counts()[0:20]\n"
     ]
    },
    {
     "data": {
      "text/plain": [
       "22    280349\n",
       "36    245123\n",
       "15     81565\n",
       "14     53137\n",
       "53     43353\n",
       "30     23212\n",
       "56     21811\n",
       "55     20479\n",
       "37     15763\n",
       "51     11413\n",
       "31      8886\n",
       "23      4311\n",
       "46      4306\n",
       "58      4011\n",
       "35      3572\n",
       "24      3451\n",
       "18      3245\n",
       "25      3190\n",
       "65      2787\n",
       "11      2750\n",
       "Name: kategoriid, dtype: int64"
      ]
     },
     "execution_count": 2,
     "metadata": {},
     "output_type": "execute_result"
    }
   ],
   "source": [
    "Dokument['kategoriid'].value_counts()[0:20]\n",
    "#man kan nok godt fjerne udvalgsspørsmål (36), samrådsspørgsmål (37),  foreløbigt svar (30) og  §20 spørgsmål (14)\n",
    "#det sparer 245123 +23212+ 53136 + 15763 = 335834 = ca. 40% af dokumenterne\n",
    "#man kan også fjerne alle dokumenter relateret til sager med typeid 7, da disse er EU sager"
   ]
  },
  {
   "cell_type": "code",
   "execution_count": 3,
   "metadata": {},
   "outputs": [
    {
     "data": {
      "text/plain": [
       "871023"
      ]
     },
     "execution_count": 3,
     "metadata": {},
     "output_type": "execute_result"
    }
   ],
   "source": [
    "len(Dokument)"
   ]
  },
  {
   "cell_type": "code",
   "execution_count": 3,
   "metadata": {},
   "outputs": [
    {
     "data": {
      "text/plain": [
       "491215"
      ]
     },
     "execution_count": 3,
     "metadata": {},
     "output_type": "execute_result"
    }
   ],
   "source": [
    "len(Fil)"
   ]
  },
  {
   "cell_type": "code",
   "execution_count": 4,
   "metadata": {},
   "outputs": [],
   "source": [
    "unwanted_categories = [36,37,30,14]"
   ]
  },
  {
   "cell_type": "code",
   "execution_count": 5,
   "metadata": {},
   "outputs": [
    {
     "data": {
      "text/plain": [
       "541969"
      ]
     },
     "execution_count": 5,
     "metadata": {},
     "output_type": "execute_result"
    }
   ],
   "source": [
    "Not_EU_Sag = Sag[Sag['typeid'] != 7]\n",
    "Dokument_ids = SagDokument[SagDokument['sagid'].isin(Not_EU_Sag['id'])]['dokumentid'].unique()\n",
    "len(Dokument_ids)"
   ]
  },
  {
   "cell_type": "code",
   "execution_count": 6,
   "metadata": {},
   "outputs": [
    {
     "data": {
      "text/plain": [
       "533788"
      ]
     },
     "execution_count": 6,
     "metadata": {},
     "output_type": "execute_result"
    }
   ],
   "source": [
    "Filtered_dok = Dokument[~Dokument['kategoriid'].isin(unwanted_categories)]\n",
    "len(Filtered_dok)"
   ]
  },
  {
   "cell_type": "code",
   "execution_count": 7,
   "metadata": {},
   "outputs": [
    {
     "data": {
      "text/plain": [
       "359596"
      ]
     },
     "execution_count": 7,
     "metadata": {},
     "output_type": "execute_result"
    }
   ],
   "source": [
    "Filtered_dok = Filtered_dok[Filtered_dok['id'].isin(Dokument_ids)]\n",
    "len(Filtered_dok)"
   ]
  },
  {
   "cell_type": "code",
   "execution_count": 8,
   "metadata": {},
   "outputs": [
    {
     "data": {
      "text/plain": [
       "312751"
      ]
     },
     "execution_count": 8,
     "metadata": {},
     "output_type": "execute_result"
    }
   ],
   "source": [
    "Filtered_fil = Fil[Fil['dokumentid'].isin(Filtered_dok['id'])]\n",
    "len(Filtered_fil)"
   ]
  },
  {
   "cell_type": "code",
   "execution_count": 9,
   "metadata": {},
   "outputs": [],
   "source": [
    "#pickle the filtered dataframes\n",
    "Filtered_dok.to_pickle('../data/raw/Filtered_dok.pkl')\n",
    "Filtered_fil.to_pickle('../data/raw/Filtered_fil.pkl')"
   ]
  },
  {
   "cell_type": "code",
   "execution_count": 10,
   "metadata": {},
   "outputs": [],
   "source": [
    "#taking dokument have a spørgsmålsid that is not none and a kategoriid == 22\n",
    "question_doks = Filtered_dok[~Filtered_dok['spørgsmålsid'].isna() & (Filtered_dok['kategoriid'] == 22)]['titel'].tolist()\n",
    "question_ids = Filtered_dok[~Filtered_dok['spørgsmålsid'].isna() & (Filtered_dok['kategoriid'] == 22)]['id'].tolist()"
   ]
  },
  {
   "cell_type": "code",
   "execution_count": 11,
   "metadata": {},
   "outputs": [],
   "source": [
    "filtered_questions = []\n",
    "import re \n",
    "pattern = r'^((Svar på spm\\. nr\\. S \\d+:)|(\\w+ - svar på spm\\. \\d+)|Svar på KOM \\(\\d+\\) \\d+ spm\\. \\d+,?\\s+om\\s+|(Aktstk\\.? \\d+ - svar på spm\\. \\d+)|([A-Z]{3} \\(\\d+\\) \\d+ - svar på spm\\. \\d+)|(svar på spm\\. nr\\. S \\d+:)|(L \\d+ - svar på spm\\. \\d+)|(Svar på spm\\.nr\\. S \\d+:)|([A-Z]{3} alm\\. del - svar på spm\\. \\d+)|(UUI alm\\. del - svar på spm\\. \\d+)|(Svar på spm\\. nr\\. \\d+:)|([A-Z]{3} alm\\. del - svar på spm\\. \\d+)|(URU alm\\. del - svar på spm\\. \\d+)|(B \\d+ - svar på spm\\. \\d+)|(KEB alm\\. del - svar på MFU spm\\. \\d+)|(TRU alm\\. del - svar på spm\\. \\d+))'\n",
    "\n",
    "for question in question_doks:\n",
    "    filtered_question = re.sub(pattern, '', question)\n",
    "    filtered_questions.append(filtered_question)\n",
    "\n"
   ]
  },
  {
   "cell_type": "code",
   "execution_count": 12,
   "metadata": {},
   "outputs": [],
   "source": [
    "zip_iterator = zip(question_ids, filtered_questions)\n",
    "question_dict = dict(zip_iterator)"
   ]
  },
  {
   "cell_type": "code",
   "execution_count": 25,
   "metadata": {},
   "outputs": [],
   "source": [
    "import random\n",
    "random_subset = pd.read_pickle('../data/raw/random_subset.pkl')\n",
    "random_subset2 = pd.read_pickle('../data/raw/random_subset2.pkl')\n",
    "\n"
   ]
  },
  {
   "cell_type": "code",
   "execution_count": 37,
   "metadata": {},
   "outputs": [
    {
     "name": "stderr",
     "output_type": "stream",
     "text": [
      "C:\\Users\\rune7\\AppData\\Local\\Temp\\ipykernel_20508\\4071157150.py:2: DeprecationWarning: Sampling from a set deprecated\n",
      "since Python 3.9 and will be removed in a subsequent version.\n",
      "  random_subset3 = random.sample(question_dict.keys(), 40000)\n"
     ]
    }
   ],
   "source": [
    "#generating a new random subset, which is different from the one here\n",
    "random_subset3 = random.sample(question_dict.keys(), 40000)\n"
   ]
  },
  {
   "cell_type": "code",
   "execution_count": 38,
   "metadata": {},
   "outputs": [],
   "source": [
    "#we tak the keys from random subset 1 and 2 and make it a list\n",
    "random_subset1_keys = [i[0] for i in random_subset]\n",
    "random_subset2_keys = [i[0] for i in random_subset2]\n"
   ]
  },
  {
   "cell_type": "code",
   "execution_count": 39,
   "metadata": {},
   "outputs": [
    {
     "data": {
      "text/plain": [
       "31415"
      ]
     },
     "execution_count": 39,
     "metadata": {},
     "output_type": "execute_result"
    }
   ],
   "source": [
    "#removing all the questions that are already in the random subset or random subset 2\n",
    "random_subset3 = [x for x in random_subset3 if x not in random_subset1_keys]\n",
    "random_subset3 = [x for x in random_subset3 if x not in random_subset2_keys]\n",
    "len(random_subset3)"
   ]
  },
  {
   "cell_type": "code",
   "execution_count": 40,
   "metadata": {},
   "outputs": [],
   "source": [
    "#get the ids and  question_doks belonging to the random_subset3\n",
    "random_subset3_questions = []\n",
    "for id in random_subset3:\n",
    "    random_subset3_questions.append((id,question_dict[id]))\n"
   ]
  },
  {
   "cell_type": "code",
   "execution_count": 42,
   "metadata": {},
   "outputs": [],
   "source": [
    "\n",
    "#save as pickle\n",
    "import pickle\n",
    "with open('../data/raw/random_subset3.pkl', 'wb') as f:\n",
    "    pickle.dump(random_subset3_questions, f)\n"
   ]
  },
  {
   "cell_type": "code",
   "execution_count": 44,
   "metadata": {},
   "outputs": [],
   "source": [
    "#doublecheck that random_subset2_questions is not the same as random_subset\n",
    "count = 0\n",
    "for id in random_subset:\n",
    "    for id2 in random_subset3_questions:\n",
    "        if id[0] == id2[0]:\n",
    "            count+=1\n",
    "            print(count)"
   ]
  }
 ],
 "metadata": {
  "kernelspec": {
   "display_name": "deep",
   "language": "python",
   "name": "python3"
  },
  "language_info": {
   "codemirror_mode": {
    "name": "ipython",
    "version": 3
   },
   "file_extension": ".py",
   "mimetype": "text/x-python",
   "name": "python",
   "nbconvert_exporter": "python",
   "pygments_lexer": "ipython3",
   "version": "3.9.16"
  },
  "orig_nbformat": 4
 },
 "nbformat": 4,
 "nbformat_minor": 2
}
