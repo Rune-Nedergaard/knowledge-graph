{
 "cells": [
  {
   "attachments": {},
   "cell_type": "markdown",
   "metadata": {},
   "source": [
    "### Plan\n",
    "1. Prepare the data: For each document, split it into chunks of appropriate size (e.g., paragraphs or a fixed number of sentences). Pair each chunk with the question attached to the document, creating a dataset of question-chunk pairs.\n",
    "\n",
    "2. Input preparation: Tokenize the questions and chunks, and create input sequences by concatenating the tokenized question and chunk, separated by a special separator token like [SEP]. The input sequence will look like this: [CLS] question_tokens [SEP] chunk_tokens [SEP]. Also, create attention masks to indicate the positions of tokens in the input sequences.\n",
    "\n",
    "3. Model configuration: Select a pre-trained BERT model and configure it for a masked language modeling (MLM) task. In this task, the model learns to predict masked tokens in the input sequence based on the context provided by the remaining tokens.\n",
    "\n",
    "4. Data masking: For each input sequence, mask a certain percentage of the question tokens (e.g., 15%). The goal is to make the model learn to reconstruct the original question using the context provided by the chunk.\n",
    "\n",
    "5. Fine-tuning: Train the BERT model on your training dataset using a suitable optimizer, learning rate scheduler, and loss function. For the MLM task, you can use the cross-entropy loss between the predicted tokens and the original tokens. Monitor the model's performance on a validation set to avoid overfitting and select the best model checkpoint based on the validation metrics."
   ]
  },
  {
   "cell_type": "code",
   "execution_count": 172,
   "metadata": {},
   "outputs": [],
   "source": [
    "import glob\n",
    "import os\n",
    "import re\n",
    "import pandas as pd\n",
    "import numpy as np"
   ]
  },
  {
   "cell_type": "code",
   "execution_count": 194,
   "metadata": {},
   "outputs": [],
   "source": [
    "#First I get all the ids of the rephrase questions\n",
    "ids = [int(file.split('\\\\')[-1].split('.')[0]) for file in glob.glob('../data/questions_rephrased/*.txt')]"
   ]
  },
  {
   "cell_type": "code",
   "execution_count": 195,
   "metadata": {},
   "outputs": [
    {
     "data": {
      "text/plain": [
       "29761"
      ]
     },
     "execution_count": 195,
     "metadata": {},
     "output_type": "execute_result"
    }
   ],
   "source": [
    "len(ids)"
   ]
  },
  {
   "cell_type": "code",
   "execution_count": 175,
   "metadata": {},
   "outputs": [],
   "source": [
    "Random_subset = pd.read_pickle('../data/raw/random_subset.pkl')\n",
    "Dokument = pd.read_pickle('../data/raw/Dokument.pkl')\n",
    "Sag = pd.read_pickle('../data/raw/Sag.pkl')\n",
    "Fil = pd.read_pickle('../data/raw/Fil.pkl')\n"
   ]
  },
  {
   "cell_type": "code",
   "execution_count": 197,
   "metadata": {},
   "outputs": [
    {
     "data": {
      "text/plain": [
       "29761"
      ]
     },
     "execution_count": 197,
     "metadata": {},
     "output_type": "execute_result"
    }
   ],
   "source": [
    "Subset_dokument = Dokument[Dokument['id'].isin(ids)]\n",
    "len(Subset_dokument)"
   ]
  },
  {
   "cell_type": "code",
   "execution_count": 198,
   "metadata": {},
   "outputs": [
    {
     "data": {
      "text/plain": [
       "36712"
      ]
     },
     "execution_count": 198,
     "metadata": {},
     "output_type": "execute_result"
    }
   ],
   "source": [
    "#Identifying the files that are linked to the rephrased questions\n",
    "Subset_fil = Fil[Fil['dokumentid'].isin(Subset_dokument['id'])]\n",
    "len(Subset_fil)"
   ]
  },
  {
   "cell_type": "code",
   "execution_count": 199,
   "metadata": {},
   "outputs": [],
   "source": [
    "#Creating dict that maps the fil ids to their corresponding rephrased question ids\n",
    "fil_to_question = {}\n",
    "for index, row in Subset_fil.iterrows():\n",
    "    #check if the fil id is already in the dict\n",
    "    if row['id'] in fil_to_question:\n",
    "        #if it is, append the question id to the list\n",
    "        fil_to_question[row['id']].append(row['dokumentid'])\n",
    "    else:\n",
    "        #if it is not, create a new list with the question id\n",
    "        fil_to_question[row['id']] = [row['dokumentid']]\n",
    "        "
   ]
  },
  {
   "cell_type": "code",
   "execution_count": 204,
   "metadata": {},
   "outputs": [
    {
     "data": {
      "text/plain": [
       "36712"
      ]
     },
     "execution_count": 204,
     "metadata": {},
     "output_type": "execute_result"
    }
   ],
   "source": [
    "len(fil_to_question)"
   ]
  },
  {
   "cell_type": "code",
   "execution_count": 205,
   "metadata": {},
   "outputs": [
    {
     "data": {
      "text/plain": [
       "29761"
      ]
     },
     "execution_count": 205,
     "metadata": {},
     "output_type": "execute_result"
    }
   ],
   "source": [
    "# Initialize the question_to_fil dictionary with all dokumentid values\n",
    "question_to_fil = {dok_id: [] for dok_id in Subset_dokument['id']}\n",
    "\n",
    "# Update the question_to_fil dictionary with the corresponding fil IDs\n",
    "for key, value in fil_to_question.items():\n",
    "    for v in value:\n",
    "        question_to_fil[v].append(key)\n",
    "\n",
    "len(question_to_fil)\n"
   ]
  },
  
  {
   "cell_type": "code",
   "execution_count": 207,
   "metadata": {},
   "outputs": [
    {
     "data": {
      "text/plain": [
       "26910"
      ]
     },
     "execution_count": 207,
     "metadata": {},
     "output_type": "execute_result"
    }
   ],
   "source": [
    "#removing all the questions that are not linked to any files\n",
    "question_to_fil_filtered = {key: value for key, value in question_to_fil.items() if value != []}\n",
    "len(question_to_fil_filtered)"
   ]
  },
  {
   "cell_type": "code",
   "execution_count": 208,
   "metadata": {},
   "outputs": [],
   "source": [
    "with open('../data/raw/question_to_fil_filtered.pkl', 'wb') as handle:\n",
    "    pickle.dump(question_to_fil_filtered, handle, protocol=pickle.HIGHEST_PROTOCOL)"
   ]
  },
  {
   "cell_type": "code",
   "execution_count": 180,
   "metadata": {},
   "outputs": [],
   "source": [
    "#save the dict as pickle \n",
    "import pickle\n",
    "with open('../data/raw/question_to_fil.pkl', 'wb') as handle:\n",
    "    pickle.dump(question_to_fil, handle, protocol=pickle.HIGHEST_PROTOCOL)\n"
   ]
  },
  {
   "cell_type": "code",
   "execution_count": 182,
   "metadata": {},
   "outputs": [
    {
     "data": {
      "text/plain": [
       "26910"
      ]
     },
     "execution_count": 182,
     "metadata": {},
     "output_type": "execute_result"
    }
   ],
   "source": [
    "len(question_to_fil)"
   ]
  },
  {
   "cell_type": "code",
   "execution_count": 193,
   "metadata": {},
   "outputs": [
    {
     "data": {
      "text/plain": [
       "26910"
      ]
     },
     "execution_count": 193,
     "metadata": {},
     "output_type": "execute_result"
    }
   ],
   "source": [
    "len(set(question_to_fil.keys()))"
   ]
  },
  {
   "cell_type": "code",
   "execution_count": 39,
   "metadata": {},
   "outputs": [],
   "source": [
    "#Now I can load the txt files that contain the files related to the rephrased questions\n",
    "\n",
    "#loading the txt files for the first 10 files related to the rephrased questions\n",
    "\n",
    "files = []\n",
    "basename = []\n",
    "for i in range(10):\n",
    "    txt = [question_to_fil[ids[i]]]\n",
    "    for t in txt:\n",
    "        basename.append(t)\n",
    "\n",
    "    for name in basename:\n",
    "        try:\n",
    "            with open('../data/processed/' + str(name) + '.txt', 'r') as f:\n",
    "                files.append(f.read())  \n",
    "        except:\n",
    "            print(f'File {name} not found')"
   ]
  },
  {
   "cell_type": "code",
   "execution_count": 169,
   "metadata": {},
   "outputs": [
    {
     "data": {
      "text/plain": [
       "12049"
      ]
     },
     "execution_count": 169,
     "metadata": {},
     "output_type": "execute_result"
    }
   ],
   "source": [
    "len(Subset_fil)"
   ]
  },
  {
   "cell_type": "code",
   "execution_count": 50,
   "metadata": {},
   "outputs": [
    {
     "name": "stdout",
     "output_type": "stream",
     "text": [
      "The rephrased question is: 1000012\n",
      "The rephrased question is: Hvad kan man bruge det skattefrie fritidstillæg på 250 kr. pr. barn/måned til?\n"
     ]
    }
   ],
   "source": [
    "#getting the rephrased question\n",
    "question_basenames = fil_to_question[basename[0]]\n",
    "\n",
    "with open('../data/questions_rephrased/' + str(question_basenames) + '.txt', 'r', encoding='iso-8859-1') as f:\n",
    "    question = f.read()\n",
    "print(f\"The rephrased question is: {question}\")"
   ]
  },
  {
   "cell_type": "code",
   "execution_count": 62,
   "metadata": {},
   "outputs": [],
   "source": [
    "from sentence_transformers import SentenceTransformer\n",
    "# Calculate similarities between sentences\n",
    "from sklearn.metrics.pairwise import cosine_similarity\n",
    "# Visualization library\n",
    "import seaborn as sns\n",
    "import matplotlib.pyplot as plt\n",
    "# package for finding local minimas\n",
    "from scipy.signal import argrelextrema\n",
    "import math\n",
    "import re"
   ]
  },
  {
   "cell_type": "code",
   "execution_count": 101,
   "metadata": {},
   "outputs": [
    {
     "name": "stdout",
     "output_type": "stream",
     "text": [
      "\n",
      "\n",
      "BEU, Alm.del - 2021-22 - Endeligt svar på spørgsmål 405: MFU spm. om, hvad det skattefrie fritidstillæg på 250 kr. pr. barn/måned potentielt kunne anvendes til, til beskæftigelsesministeren\n",
      "\n",
      "Beskæftigelsesudvalget 2021-22BEU Alm.del Offentligt\n",
      "\n",
      " \n",
      " \n",
      " \n",
      "Folketingets Beskæftigelsesudvalg\n",
      "lov@ft.dk\n",
      "Karina Adsbøll (UFG)\n",
      "Karina.adsbol@ft.dk\n",
      "Beskæftigelsesministeriet\n",
      "Holmens Kanal 20\n",
      "1060 København K\n",
      "T +45 72 20 50 00\n",
      "E bm@bm.dk\n",
      "www.bm.dk\n",
      "CVR 10172748\n",
      "J.nr. 2022-5158\n",
      "29. juni 2022\n",
      "Beskæftigelsesudvalget har i brev af 15. juni 2022 stillet følgende spørgsmål nr.\n",
      "405 (alm. del), som hermed besvares. Spørgsmålet er stillet af ikke-medlem Karina\n",
      "Adsbøll (UFG) (MFU).\n",
      "Spørgsmål nr. 405:\n",
      "”Vil ministeren i forlængelse af ”Aftale om nyt kontanthjælpssystem med plads til\n",
      "børnene” oplyse, hvad det skattefrie fritidstillæg på 250 kr. pr. barn/måned potenti-\n",
      "elt kunne anvendes til ift. fritidsaktiviteter i religiøse sammenhænge f.eks. fritids-\n",
      "studier i koranlæsning?”\n",
      "Svar:\n",
      "Alle børn i Danmark skal vokse op med mulighed for at være en aktiv del af fælles-\n",
      "skabet. Undersøgelser har vist, at særligt børn, hvis forældre ikke er i beskæfti-\n",
      "gelse, lider afsavn i forhold til sociale aktiviteter. Med aftalen er der sikret et ud-\n",
      "gangspunkt for, at alle børn i Danmark har mulighed for at deltage i fritidsaktivite-\n",
      "ter.\n",
      "Partierne bag\n",
      "Aftale om nyt kontanthjælpssystem med plads til børnene\n",
      "er enige om\n",
      "at indføre et fritidstillæg til alle børn i kontanthjælpssystemet på 250 kr. skattefrit\n",
      "per barn per måned øremærket barnets fritids- og kulturaktiviteter (dog maksimalt\n",
      "til fire børn per familie). Fritidstillægget vil være en ny rettighed til alle børn i kon-\n",
      "tanthjælpssystemet og vil derfor komme omkring 40.000 børn til gode. Det giver\n",
      "børnene en hjælpende hånd med at komme til for eksempel fodbold, spejder eller\n",
      "dans.\n",
      "Fritidstillægget vil kunne bruges på:\n",
      "Fritidstilbud, herunder sportsaktiviteter, og udstyr/beklædning i den forbindelse\n",
      "Kulturtilbud for børn, herunder biograf, teater og museum mv.\n",
      "Sociale/faglige arrangementer i forbindelse med skole-, dag- og fritidstilbud, fx\n",
      "skolekoloni, studieture mv.\n",
      "•\n",
      "Udstyr til uddannelse, herunder skoletaske, computer mv.\n",
      "•\n",
      "Børnefødselsdage\n",
      "•\n",
      "•\n",
      "•\n",
      "\n",
      "BEU, Alm.del - 2021-22 - Endeligt svar på spørgsmål 405: MFU spm. om, hvad det skattefrie fritidstillæg på 250 kr. pr. barn/måned potentielt kunne anvendes til, til beskæftigelsesministeren\n",
      "\n",
      "Der vil i forbindelse med udmøntningen af aftalen blive udarbejdet en positivliste\n",
      "over hvilke konkrete udgifter, fritidstillægget vil kunne bruges på. Der vil i den for-\n",
      "bindelse også skulle tages stilling til, hvilke aktiviteter fritidstillægget ikke vil\n",
      "kunne bruges på.\n",
      "Venlig hilsen\n",
      "Peter Hummelgaard\n",
      "Beskæftigelsesminister\n",
      "2\n",
      "\n",
      "\n"
     ]
    }
   ],
   "source": [
    "print(files[0])\n",
    "doc = files[0]"
   ]
  },
  {
   "cell_type": "code",
   "execution_count": 154,
   "metadata": {},
   "outputs": [],
   "source": [
    "with open('../data/processed/1626787.txt', 'r') as f:\n",
    "    doc = f.read()"
   ]
  },
  {
   "cell_type": "code",
   "execution_count": 155,
   "metadata": {},
   "outputs": [],
   "source": [
    "#replace \\n with space\n",
    "doc = re.sub(r'\\n', ' ', doc)"
   ]
  },
  {
   "cell_type": "code",
   "execution_count": 156,
   "metadata": {},
   "outputs": [
    {
     "data": {
      "text/plain": [
       "33"
      ]
     },
     "execution_count": 156,
     "metadata": {},
     "output_type": "execute_result"
    }
   ],
   "source": [
    "sentences = re.split('[?.]', doc)\n",
    "len(sentences)"
   ]
  },
  {
   "cell_type": "code",
   "execution_count": 157,
   "metadata": {},
   "outputs": [],
   "source": [
    "start = 0\n",
    "end = len(sentences) - 1\n",
    "while start <= end:\n",
    "    if len(sentences[start]) < 30:\n",
    "        sentences[start] = sentences[start] + sentences[start + 1]\n",
    "        sentences.pop(start + 1)\n",
    "        end -= 1\n",
    "    else:\n",
    "        start += 1\n"
   ]
  },
  {
   "attachments": {},
   "cell_type": "markdown",
   "metadata": {},
   "source": [
    "### Unify sentence length"
   ]
  },
  {
   "cell_type": "code",
   "execution_count": 158,
   "metadata": {},
   "outputs": [
    {
     "data": {
      "text/plain": [
       "19"
      ]
     },
     "execution_count": 158,
     "metadata": {},
     "output_type": "execute_result"
    }
   ],
   "source": [
    "len(sentences)"
   ]
  },
  {
   "cell_type": "code",
   "execution_count": 159,
   "metadata": {},
   "outputs": [],
   "source": [
    "# Get the length of each sentence\n",
    "sentece_length = [len(each) for each in sentences]\n",
    "# Determine longest outlier\n",
    "long = np.mean(sentece_length) + np.std(sentece_length) *2\n",
    "# Determine shortest outlier\n",
    "short = np.mean(sentece_length) - np.std(sentece_length) *2\n",
    "# Shorten long sentences\n",
    "text = ''\n",
    "for each in sentences:\n",
    "    if len(each) > long:\n",
    "        # let's replace all the commas with dots\n",
    "        comma_splitted = each.replace(',', '.')\n",
    "    else:\n",
    "        text+= f'{each}. '\n",
    "sentences = text.split('. ')\n",
    "# Now let's concatenate short ones\n",
    "text = ''\n",
    "for each in sentences:\n",
    "    if len(each) < short:\n",
    "        text+= f'{each} '\n",
    "    else:\n",
    "        text+= f'{each}. '"
   ]
  },
  {
   "cell_type": "code",
   "execution_count": 160,
   "metadata": {},
   "outputs": [
    {
     "data": {
      "text/plain": [
       "19"
      ]
     },
     "execution_count": 160,
     "metadata": {},
     "output_type": "execute_result"
    }
   ],
   "source": [
    "len(sentences)"
   ]
  },
  {
   "cell_type": "code",
   "execution_count": 161,
   "metadata": {},
   "outputs": [],
   "source": [
    "embeddings = []\n",
    "for sentence in sentences:\n",
    "    _, sentence_embedding, _ = model.embed_text(sentence)\n",
    "    embeddings.append(sentence_embedding.numpy().flatten())\n",
    "\n",
    "embeddings = np.vstack(embeddings)\n"
   ]
  },
  {
   "cell_type": "code",
   "execution_count": 162,
   "metadata": {},
   "outputs": [
    {
     "name": "stdout",
     "output_type": "stream",
     "text": [
      "(19, 768)\n"
     ]
    }
   ],
   "source": [
    "print(embeddings.shape)"
   ]
  },
  {
   "cell_type": "code",
   "execution_count": 163,
   "metadata": {},
   "outputs": [],
   "source": [
    "# Create similarities matrix\n",
    "similarities = cosine_similarity(embeddings)\n"
   ]
  },
  {
   "cell_type": "code",
   "execution_count": 164,
   "metadata": {},
   "outputs": [
    {
     "data": {
      "text/plain": [
       "Text(0.5, 1.0, 'Cosine similarities matrix')"
      ]
     },
     "execution_count": 164,
     "metadata": {},
     "output_type": "execute_result"
    },
    {
     "data": {
      "image/png": "[encoded data removed]",
      "text/plain": [
       "<Figure size 640x480 with 2 Axes>"
      ]
     },
     "metadata": {},
     "output_type": "display_data"
    }
   ],
   "source": [
    "# Lets plot the result we got\n",
    "sns.heatmap(similarities).set_title('Cosine similarities matrix')"
   ]
  },
  {
   "attachments": {},
   "cell_type": "markdown",
   "metadata": {},
   "source": [
    "# Find splitting points\n"
   ]
  },
  {
   "attachments": {},
   "cell_type": "markdown",
   "metadata": {},
   "source": []
  },
  {
   "cell_type": "code",
   "execution_count": 165,
   "metadata": {},
   "outputs": [
    {
     "data": {
      "text/plain": [
       "<matplotlib.collections.LineCollection at 0x24020f4a820>"
      ]
     },
     "execution_count": 165,
     "metadata": {},
     "output_type": "execute_result"
    },
    {
     "data": {
      "image/png": "[encoded data removed]",
      "text/plain": [
       "<Figure size 640x480 with 1 Axes>"
      ]
     },
     "metadata": {},
     "output_type": "display_data"
    }
   ],
   "source": [
    "def rev_sigmoid(x:float)->float:\n",
    "    return (1 / (1 + math.exp(0.5*x)))\n",
    "    \n",
    "def activate_similarities(similarities:np.array, p_size=10)->np.array:\n",
    "        \"\"\" Function returns list of weighted sums of activated sentence similarities\n",
    "        Args:\n",
    "            similarities (numpy array): it should square matrix where each sentence corresponds to another with cosine similarity\n",
    "            p_size (int): number of sentences are used to calculate weighted sum \n",
    "        Returns:\n",
    "            list: list of weighted sums\n",
    "        \"\"\"\n",
    "        p_size = min(p_size, similarities.shape[0])\n",
    "        # To create weights for sigmoid function we first have to create space. P_size will determine number of sentences used and the size of weights vector.\n",
    "        x = np.linspace(-10,10,p_size)\n",
    "        # Then we need to apply activation function to the created space\n",
    "        y = np.vectorize(rev_sigmoid) \n",
    "        # Because we only apply activation to p_size number of sentences we have to add zeros to neglect the effect of every additional sentence and to match the length ofvector we will multiply\n",
    "        activation_weights = np.pad(y(x),(0,similarities.shape[0]-p_size))\n",
    "        ### 1. Take each diagonal to the right of the main diagonal\n",
    "        diagonals = [similarities.diagonal(each) for each in range(0,similarities.shape[0])]\n",
    "        ### 2. Pad each diagonal by zeros at the end. Because each diagonal is different length we should pad it with zeros at the end\n",
    "        diagonals = [np.pad(each, (0,similarities.shape[0]-len(each))) for each in diagonals]\n",
    "        ### 3. Stack those diagonals into new matrix\n",
    "        diagonals = np.stack(diagonals)\n",
    "        ### 4. Apply activation weights to each row. Multiply similarities with our activation.\n",
    "        diagonals = diagonals * activation_weights.reshape(-1,1)\n",
    "        ### 5. Calculate the weighted sum of activated similarities\n",
    "        activated_similarities = np.sum(diagonals, axis=0)\n",
    "        return activated_similarities\n",
    "\n",
    "# Let's apply our function. For long sentences i reccomend to use 10 or more sentences\n",
    "activated_similarities = activate_similarities(similarities, p_size=10)\n",
    "\n",
    "# Let's create empty fig for our plor\n",
    "fig, ax = plt.subplots()\n",
    "### 6. Find relative minima of our vector. For all local minimas and save them to variable with argrelextrema function\n",
    "minmimas = argrelextrema(activated_similarities, np.less, order=2) #order parameter controls how frequent should be splits. I would not reccomend changing this parameter.\n",
    "# plot the flow of our text with activated similarities\n",
    "sns.lineplot(y=activated_similarities, x=range(len(activated_similarities)), ax=ax).set_title('Relative minimas')\n",
    "# Now lets plot vertical lines in order to see where we created the split\n",
    "plt.vlines(x=minmimas, ymin=min(activated_similarities), ymax=max(activated_similarities), colors='purple', ls='--', lw=1, label='vline_multiple - full args')"
   ]
  },
  {
   "cell_type": "code",
   "execution_count": 166,
   "metadata": {},
   "outputs": [],
   "source": [
    "# Create empty string\n",
    "split_points = [each for each in minmimas[0]]\n",
    "text = ''\n",
    "for num,each in enumerate(sentences):\n",
    "    if num in split_points:\n",
    "        text+=f'\\n\\n {each}. '\n",
    "    else:\n",
    "        text+=f'{each}. '"
   ]
  },
  {
   "cell_type": "code",
   "execution_count": 167,
   "metadata": {},
   "outputs": [
    {
     "name": "stdout",
     "output_type": "stream",
     "text": [
      "  GRU, Almdel - 2020-21 - Endeligt svar på spørgsmål 124: Spm.  om, hvorvidt det stadig er forventningen, at der tilbydes behandling til voksne personer med seksuelt krænkende adfærd mod børn og unge under 18 år, til socialministeren  Grønlandsudvalget 2020-21GRU Alm. del Offentligt  Folketingets Grønlandsudvalg Holmens Kanal 22 1060 København K Telefon 33 92 93 00 sm@sm. \n",
      "\n",
      " dk wwwsmdk Sagsnr 2021 - 6590 Doknr.  468952 Dato 08-10-2021 Folketingets Grønlandsudvalg har d.  20 september 2021 stillet følgende spørgsmål nr.  124 (alm del) til social- og ældreministeren, som hermed besvares.  Spørgsmålet er stillet efter ønske fra Aaja Chemnitz Larsen (IA). \n",
      "\n",
      "  Der henvises til svar på GRU alm.  del - spm 52” Svar: Spørgsmålet referer til tidligere besvarelse af GRU alm.  del – spm 52, om det grønlandsk-tværgående arbejde for en styrket indsats for børn og unge i Grønland.  I denne indsats indgår en række initiativer, hvoraf en række af dem er et samarbejde mellem Grønland og Danmark og en række af dem er initiativer, som Grønland alene står for.  GRU alm del – spm 52 blev derfor besvaret med bidrag fra Grønland.  Det opfølgende GRU alm spm 124 kræver derfor ligeledes bidrag fra Grønland.  Departementet for Børn, Unge og Familier oplyser: ”Det er fortsat forventningen, at der tilbydes behandling til voksne personer med seksuelt krænkende adfærd mod børn og unge under 18 år.  Status er, at der er ansat psykologer og fundet lokaler til brug for behandlingscenteret.  Behandlingscenteret forventes således formelt etableret og klar til behandling ultimo 2021. ” Med venlig hilsen Astrid Krag 1  . . \n"
     ]
    }
   ],
   "source": [
    "print(text)"
   ]
  },
  {
   "attachments": {},
   "cell_type": "markdown",
   "metadata": {},
   "source": [
    "# I made the src/data/extract_paragraphs.py script to do this"
   ]
  },
  {
   "cell_type": "code",
   "execution_count": 139,
   "metadata": {},
   "outputs": [],
   "source": [
    "    \n",
    "def activate_similarities(similarities:np.array, p_size=10)->np.array:\n",
    "        \"\"\" Function returns list of weighted sums of activated sentence similarities\n",
    "        Args:\n",
    "            similarities (numpy array): it should square matrix where each sentence corresponds to another with cosine similarity\n",
    "            p_size (int): number of sentences are used to calculate weighted sum \n",
    "        Returns:\n",
    "            list: list of weighted sums\n",
    "        \"\"\"\n",
    "        p_size = min(p_size, similarities.shape[0])\n",
    "\n",
    "        # To create weights for sigmoid function we first have to create space. P_size will determine number of sentences used and the size of weights vector.\n",
    "        x = np.linspace(-10,10,p_size)\n",
    "        # Then we need to apply activation function to the created space\n",
    "        y = np.vectorize(rev_sigmoid) \n",
    "        # Because we only apply activation to p_size number of sentences we have to add zeros to neglect the effect of every additional sentence and to match the length ofvector we will multiply\n",
    "        activation_weights = np.pad(y(x),(0,similarities.shape[0]-p_size))\n",
    "        ### 1. Take each diagonal to the right of the main diagonal\n",
    "        diagonals = [similarities.diagonal(each) for each in range(0,similarities.shape[0])]\n",
    "        ### 2. Pad each diagonal by zeros at the end. Because each diagonal is different length we should pad it with zeros at the end\n",
    "        diagonals = [np.pad(each, (0,similarities.shape[0]-len(each))) for each in diagonals]\n",
    "        ### 3. Stack those diagonals into new matrix\n",
    "        diagonals = np.stack(diagonals)\n",
    "        ### 4. Apply activation weights to each row. Multiply similarities with our activation.\n",
    "        diagonals = diagonals * activation_weights.reshape(-1,1)\n",
    "        ### 5. Calculate the weighted sum of activated similarities\n",
    "        activated_similarities = np.sum(diagonals, axis=0)\n",
    "        return activated_similarities"
   ]
  },
  {
   "cell_type": "code",
   "execution_count": 140,
   "metadata": {},
   "outputs": [
    {
     "name": "stderr",
     "output_type": "stream",
     "text": [
      "Some weights of the model checkpoint at C:\\Users\\rune7\\.danlp\\bert.botxo.pytorch were not used when initializing BertModel: ['cls.predictions.transform.dense.weight', 'cls.predictions.transform.LayerNorm.weight', 'cls.seq_relationship.bias', 'cls.predictions.transform.dense.bias', 'cls.predictions.bias', 'cls.predictions.transform.LayerNorm.bias', 'cls.seq_relationship.weight', 'cls.predictions.decoder.weight']\n",
      "- This IS expected if you are initializing BertModel from the checkpoint of a model trained on another task or with another architecture (e.g. initializing a BertForSequenceClassification model from a BertForPreTraining model).\n",
      "- This IS NOT expected if you are initializing BertModel from the checkpoint of a model that you expect to be exactly identical (initializing a BertForSequenceClassification model from a BertForSequenceClassification model).\n"
     ]
    },
    {
     "name": "stdout",
     "output_type": "stream",
     "text": [
      "  S 59 - 2021-22: Hvad har regeringen foretaget sig i EU for at modarbejde, at EU skulle komme til at bestemme over dansk velfærdspolitik, helt konkret i forhold til EU’s seneste indgreb i spørgsmålet om familiers fordeling af barsel   Beskæftigelsesudvalget 2021-22S 59 Offentligt  Spørgsmål nr  S 59 § 20 – spørgsmål til mundtlig besvarelse den 13  oktober 2021 Til: Dato: Stillet af: Beskæftigelsesministeren 8  oktober 2021 Morten Messerschmidt (DF) Hvad har regeringen foretaget sig i EU for at modarbejde, at EU skulle komme til at bestemme over dansk velfærdspolitik, helt konkret i forhold til EU’s seneste indgreb i spørgsmålet om familiers fordeling af barsel \n",
      "----------------\n"
     ]
    }
   ],
   "source": [
    "import re\n",
    "import numpy as np\n",
    "import matplotlib.pyplot as plt\n",
    "from scipy.signal import argrelextrema\n",
    "from danlp.models import load_bert_base_model\n",
    "\n",
    "def split_into_paragraphs(text, max_tokens=500):\n",
    "    # Replace \\n with space\n",
    "    text = re.sub(r'\\n', ' ', text)\n",
    "\n",
    "    # Split the text into sentences based on '?' and '.'\n",
    "    sentences = re.split('[?.]', text)\n",
    "\n",
    "    # Concatenate short sentences\n",
    "    start = 0\n",
    "    end = len(sentences) - 1\n",
    "    while start <= end:\n",
    "        if len(sentences[start]) < 30:\n",
    "            sentences[start] = sentences[start] + sentences[start + 1]\n",
    "            sentences.pop(start + 1)\n",
    "            end -= 1\n",
    "        else:\n",
    "            start += 1\n",
    "\n",
    "    # Concatenate long sentences\n",
    "    text = ''\n",
    "    for each in sentences:\n",
    "        if len(each) > 500:\n",
    "            comma_splitted = each.replace(',', '.')\n",
    "        else:\n",
    "            text += f'{each}. '\n",
    "    sentences = text.split('. ')\n",
    "    text = ''\n",
    "    for each in sentences:\n",
    "        if len(each) < 30:\n",
    "            text += f'{each} '\n",
    "        else:\n",
    "            text += f'{each}. '\n",
    "\n",
    "    # Calculate sentence embeddings\n",
    "    model = load_bert_base_model()\n",
    "    embeddings = []\n",
    "    for sentence in sentences:\n",
    "        _, sentence_embedding, tokenized_text = model.embed_text(sentence)\n",
    "        embeddings.append(sentence_embedding.numpy().flatten())\n",
    "    embeddings = np.vstack(embeddings)\n",
    "\n",
    "    # Calculate cosine similarities between sentences\n",
    "    similarities = np.matmul(embeddings, embeddings.T)\n",
    "\n",
    "    # Find relative minima of activated similarities\n",
    "    activated_similarities = activate_similarities(similarities, p_size=10)\n",
    "    minmimas = argrelextrema(activated_similarities, np.less, order=2)\n",
    "\n",
    "    # Split the text into paragraphs based on the relative minima\n",
    "    paragraphs = []\n",
    "    current_paragraph = ''\n",
    "    for i, sentence in enumerate(sentences):\n",
    "        current_paragraph += sentence + ' '\n",
    "        if i in minmimas[0]:\n",
    "            paragraphs.append(current_paragraph)\n",
    "            current_paragraph = ''\n",
    "\n",
    "    return paragraphs\n",
    "\n",
    "# Load the text file\n",
    "with open('../data/processed/1626812.txt', 'r') as f:\n",
    "    text = f.read()\n",
    "# Split the text into paragraphs\n",
    "paragraphs = split_into_paragraphs(text)\n",
    "\n",
    "for p in paragraphs:\n",
    "    print(p)\n",
    "    print('----------------')\n"
   ]
  },
  {
   "cell_type": "code",
   "execution_count": null,
   "metadata": {},
   "outputs": [],
   "source": []
  }
 ],
 "metadata": {
  "kernelspec": {
   "display_name": "deep",
   "language": "python",
   "name": "python3"
  },
  "language_info": {
   "codemirror_mode": {
    "name": "ipython",
    "version": 3
   },
   "file_extension": ".py",
   "mimetype": "text/x-python",
   "name": "python",
   "nbconvert_exporter": "python",
   "pygments_lexer": "ipython3",
   "version": "3.9.16"
  },
  "orig_nbformat": 4
 },
 "nbformat": 4,
 "nbformat_minor": 2
}
